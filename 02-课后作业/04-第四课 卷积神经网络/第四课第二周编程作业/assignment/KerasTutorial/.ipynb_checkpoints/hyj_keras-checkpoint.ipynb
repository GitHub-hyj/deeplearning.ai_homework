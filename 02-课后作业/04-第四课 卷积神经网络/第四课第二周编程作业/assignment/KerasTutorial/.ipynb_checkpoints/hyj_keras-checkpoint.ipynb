{
 "cells": [
  {
   "cell_type": "code",
   "execution_count": 2,
   "metadata": {},
   "outputs": [],
   "source": [
    "import numpy as np\n",
    "from keras import layers\n",
    "from keras.layers import Input, Dense, Activation, ZeroPadding2D, BatchNormalization, Flatten, Conv2D\n",
    "from keras.layers import AveragePooling2D, MaxPooling2D, Dropout, GlobalMaxPooling2D, GlobalAveragePooling2D\n",
    "from keras.models import Model\n",
    "from keras.preprocessing import image\n",
    "from keras.utils import layer_utils\n",
    "from keras.utils.data_utils import get_file\n",
    "from keras.applications.imagenet_utils import preprocess_input\n",
    "import pydot\n",
    "from IPython.display import SVG\n",
    "from keras.utils.vis_utils import model_to_dot\n",
    "from keras.utils import plot_model\n",
    "from kt_utils import *\n",
    "\n",
    "import keras.backend as K\n",
    "K.set_image_data_format('channels_last')\n",
    "import matplotlib.pyplot as plt\n",
    "from matplotlib.pyplot import imshow\n",
    "\n",
    "%matplotlib inline"
   ]
  },
  {
   "cell_type": "code",
   "execution_count": 3,
   "metadata": {},
   "outputs": [
    {
     "name": "stdout",
     "output_type": "stream",
     "text": [
      "number of training examples = 600\n",
      "number of test examples = 150\n",
      "X_train shape: (600, 64, 64, 3)\n",
      "Y_train shape: (600, 1)\n",
      "X_test shape: (150, 64, 64, 3)\n",
      "Y_test shape: (150, 1)\n"
     ]
    }
   ],
   "source": [
    "X_train_orig, Y_train_orig, X_test_orig, Y_test_orig, classes = load_dataset()\n",
    "\n",
    "X_train = X_train_orig/255.\n",
    "X_test = X_test_orig/255.\n",
    "\n",
    "Y_train = Y_train_orig.T\n",
    "Y_test = Y_test_orig.T\n",
    "\n",
    "print(\"number of training examples = \" + str(X_train.shape[0]))\n",
    "print(\"number of test examples = \" + str(X_test.shape[0]))\n",
    "print (\"X_train shape: \" + str(X_train.shape))\n",
    "print (\"Y_train shape: \" + str(Y_train.shape))\n",
    "print (\"X_test shape: \" + str(X_test.shape))\n",
    "print (\"Y_test shape: \" + str(Y_test.shape))"
   ]
  },
  {
   "cell_type": "code",
   "execution_count": 10,
   "metadata": {},
   "outputs": [],
   "source": [
    "def HappyModel(input_shape):\n",
    "    ### START CODE HERE ###\n",
    "    X_input = Input(shape=input_shape)\n",
    "    X = ZeroPadding2D(padding=(1, 1))(X_input)\n",
    "    X = Conv2D(8, kernel_size=(3,3), strides=(1,1))(X)\n",
    "    X = BatchNormalization(axis=3)(X)\n",
    "    X = Activation('relu')(X)\n",
    "    X = MaxPooling2D(pool_size=(2,2), strides=(2,2), padding='valid')(X)\n",
    "    \n",
    "    X = ZeroPadding2D(padding=(1, 1))(X)\n",
    "    X = Conv2D(16, kernel_size=(3,3), strides=(1,1))(X)\n",
    "    X = BatchNormalization(axis=3)(X)\n",
    "    X = Activation('relu')(X)\n",
    "    X = MaxPooling2D(pool_size=(2,2), strides=(2,2), padding='valid')(X)\n",
    "    \n",
    "    X = ZeroPadding2D(padding=(1, 1))(X)\n",
    "    X = Conv2D(32, kernel_size=(3,3), strides=(1,1))(X)\n",
    "    X = BatchNormalization(axis=3)(X)\n",
    "    X = Activation('relu')(X)\n",
    "    X = MaxPooling2D(pool_size=(2,2), strides=(2,2), padding='valid')(X)\n",
    "    \n",
    "    # FC\n",
    "    X = Flatten()(X)\n",
    "    Y = Dense(1, activation='sigmoid')(X)\n",
    "    \n",
    "    model = Model(inputs = X_input, outputs = Y, name='HappyModel')\n",
    "    ### END CODE HERE ###\n",
    "    \n",
    "    return model"
   ]
  },
  {
   "cell_type": "code",
   "execution_count": 11,
   "metadata": {},
   "outputs": [],
   "source": [
    "happyModel = HappyModel((64,64,3))"
   ]
  },
  {
   "cell_type": "code",
   "execution_count": 16,
   "metadata": {},
   "outputs": [],
   "source": [
    "import keras\n",
    "happyModel.compile(optimizer=keras.optimizers.Adam(lr=0.001, beta_1=0.9, beta_2=0.999, epsilon=1e-08, decay=0.0), loss='binary_crossentropy', metrics=['accuracy'])"
   ]
  },
  {
   "cell_type": "code",
   "execution_count": 17,
   "metadata": {},
   "outputs": [
    {
     "name": "stdout",
     "output_type": "stream",
     "text": [
      "Epoch 1/20\n",
      "600/600 [==============================] - 2s - loss: 0.0180 - acc: 0.9950     \n",
      "Epoch 2/20\n",
      "600/600 [==============================] - 1s - loss: 0.0083 - acc: 1.0000     \n",
      "Epoch 3/20\n",
      "600/600 [==============================] - 1s - loss: 0.0053 - acc: 1.0000     \n",
      "Epoch 4/20\n",
      "600/600 [==============================] - 1s - loss: 0.0185 - acc: 0.9967     \n",
      "Epoch 5/20\n",
      "600/600 [==============================] - 1s - loss: 0.0069 - acc: 1.0000     \n",
      "Epoch 6/20\n",
      "600/600 [==============================] - 1s - loss: 0.0134 - acc: 0.9983     \n",
      "Epoch 7/20\n",
      "600/600 [==============================] - 1s - loss: 0.0063 - acc: 0.9983     \n",
      "Epoch 8/20\n",
      "600/600 [==============================] - 1s - loss: 0.0018 - acc: 1.0000     \n",
      "Epoch 9/20\n",
      "600/600 [==============================] - 1s - loss: 0.0012 - acc: 1.0000     \n",
      "Epoch 10/20\n",
      "600/600 [==============================] - 1s - loss: 8.4483e-04 - acc: 1.0000     \n",
      "Epoch 11/20\n",
      "600/600 [==============================] - 1s - loss: 7.6421e-04 - acc: 1.0000     \n",
      "Epoch 12/20\n",
      "600/600 [==============================] - 1s - loss: 6.8104e-04 - acc: 1.0000     \n",
      "Epoch 13/20\n",
      "600/600 [==============================] - 1s - loss: 9.0179e-04 - acc: 1.0000     \n",
      "Epoch 14/20\n",
      "600/600 [==============================] - 1s - loss: 6.3299e-04 - acc: 1.0000     \n",
      "Epoch 15/20\n",
      "600/600 [==============================] - 2s - loss: 5.6116e-04 - acc: 1.0000     \n",
      "Epoch 16/20\n",
      "600/600 [==============================] - 2s - loss: 5.3229e-04 - acc: 1.0000     \n",
      "Epoch 17/20\n",
      "600/600 [==============================] - 1s - loss: 5.0457e-04 - acc: 1.0000     \n",
      "Epoch 18/20\n",
      "600/600 [==============================] - 1s - loss: 4.5603e-04 - acc: 1.0000     \n",
      "Epoch 19/20\n",
      "600/600 [==============================] - 1s - loss: 4.5321e-04 - acc: 1.0000     \n",
      "Epoch 20/20\n",
      "600/600 [==============================] - 2s - loss: 3.9525e-04 - acc: 1.0000     \n"
     ]
    },
    {
     "data": {
      "text/plain": [
       "<keras.callbacks.History at 0x120103358>"
      ]
     },
     "execution_count": 17,
     "metadata": {},
     "output_type": "execute_result"
    }
   ],
   "source": [
    "happyModel.fit(x=X_train, y=Y_train, batch_size=16, epochs=20)"
   ]
  },
  {
   "cell_type": "code",
   "execution_count": 18,
   "metadata": {},
   "outputs": [
    {
     "name": "stdout",
     "output_type": "stream",
     "text": [
      "150/150 [==============================] - 0s     \n",
      "\n",
      "Loss = 0.0600728251537\n",
      "Test Accuracy = 0.960000003974\n"
     ]
    }
   ],
   "source": [
    "preds = happyModel.evaluate(x=X_test, y=Y_test)\n",
    "print()\n",
    "print (\"Loss = \" + str(preds[0]))\n",
    "print (\"Test Accuracy = \" + str(preds[1]))"
   ]
  },
  {
   "cell_type": "markdown",
   "metadata": {},
   "source": [
    "# test"
   ]
  },
  {
   "cell_type": "code",
   "execution_count": 19,
   "metadata": {},
   "outputs": [
    {
     "name": "stdout",
     "output_type": "stream",
     "text": [
      "[[ 1.]]\n"
     ]
    },
    {
     "data": {
      "image/png": "[encoded data removed]",
      "text/plain": [
       "<matplotlib.figure.Figure at 0x1216088d0>"
      ]
     },
     "metadata": {},
     "output_type": "display_data"
    }
   ],
   "source": [
    "img_path = 'images/my_image.jpg'\n",
    "img = image.load_img(img_path, target_size=(64,64))\n",
    "imshow(img)\n",
    "\n",
    "x = image.img_to_array(img)\n",
    "x = np.expand_dims(x,axis=0)\n",
    "x = preprocess_input(x)\n",
    "\n",
    "print(happyModel.predict(x))"
   ]
  },
  {
   "cell_type": "code",
   "execution_count": null,
   "metadata": {},
   "outputs": [],
   "source": []
  }
 ],
 "metadata": {
  "kernelspec": {
   "display_name": "Python 3",
   "language": "python",
   "name": "python3"
  },
  "language_info": {
   "codemirror_mode": {
    "name": "ipython",
    "version": 3
   },
   "file_extension": ".py",
   "mimetype": "text/x-python",
   "name": "python",
   "nbconvert_exporter": "python",
   "pygments_lexer": "ipython3",
   "version": "3.6.0"
  }
 },
 "nbformat": 4,
 "nbformat_minor": 2
}
