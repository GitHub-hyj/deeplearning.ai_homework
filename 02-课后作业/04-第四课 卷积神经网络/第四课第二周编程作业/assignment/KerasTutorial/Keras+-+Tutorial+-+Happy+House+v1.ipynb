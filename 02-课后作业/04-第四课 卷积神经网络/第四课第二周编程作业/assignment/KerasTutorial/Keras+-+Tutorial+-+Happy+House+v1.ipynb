{
 "cells": [
  {
   "cell_type": "markdown",
   "metadata": {},
   "source": [
    "# Keras tutorial - the Happy House\n",
    "\n",
    "Welcome to the first assignment of week 2. In this assignment, you will:\n",
    "1. Learn to use Keras, a high-level neural networks API (programming framework), written in Python and capable of running on top of several lower-level frameworks including TensorFlow and CNTK. \n",
    "2. See how you can in a couple of hours build a deep learning algorithm.\n",
    "\n",
    "Why are we using Keras? Keras was developed to enable deep learning engineers to build and experiment with different models very quickly. Just as TensorFlow is a higher-level framework than Python, Keras is an even higher-level framework and provides additional abstractions. Being able to go from idea to result with the least possible delay is key to finding good models. However, Keras is more restrictive than the lower-level frameworks, so there are some very complex models that you can implement in TensorFlow but not (without more difficulty) in Keras. That being said, Keras will work fine for many common models. \n",
    "\n",
    "In this exercise, you'll work on the \"Happy House\" problem, which we'll explain below. Let's load the required packages and solve the problem of the Happy House!"
   ]
  },
  {
   "cell_type": "code",
<<<<<<< Updated upstream
   "execution_count": 1,
   "metadata": {},
   "outputs": [
    {
     "name": "stderr",
     "output_type": "stream",
     "text": [
      "Using TensorFlow backend.\n"
     ]
    }
   ],
=======
   "execution_count": 6,
   "metadata": {},
   "outputs": [],
>>>>>>> Stashed changes
   "source": [
    "import numpy as np\n",
    "#import tensorflow as tf\n",
    "from keras import layers\n",
    "from keras.layers import Input, Dense, Activation, ZeroPadding2D, BatchNormalization, Flatten, Conv2D\n",
    "from keras.layers import AveragePooling2D, MaxPooling2D, Dropout, GlobalMaxPooling2D, GlobalAveragePooling2D\n",
    "from keras.models import Model\n",
    "from keras.preprocessing import image\n",
    "from keras.utils import layer_utils\n",
    "from keras.utils.data_utils import get_file\n",
    "from keras.applications.imagenet_utils import preprocess_input\n",
    "import pydot\n",
    "from IPython.display import SVG\n",
    "from keras.utils.vis_utils import model_to_dot\n",
    "from keras.utils import plot_model\n",
    "from kt_utils import *\n",
    "\n",
    "import keras.backend as K\n",
    "K.set_image_data_format('channels_last')\n",
    "import matplotlib.pyplot as plt\n",
    "from matplotlib.pyplot import imshow\n",
    "\n",
    "%matplotlib inline"
   ]
  },
  {
   "cell_type": "markdown",
   "metadata": {},
   "source": [
    "**Note**: As you can see, we've imported a lot of functions from Keras. You can use them easily just by calling them directly in the notebook. Ex: `X = Input(...)` or `X = ZeroPadding2D(...)`."
   ]
  },
  {
   "cell_type": "markdown",
   "metadata": {},
   "source": [
    "## 1 - The Happy House \n",
    "\n",
    "For your next vacation, you decided to spend a week with five of your friends from school. It is a very convenient house with many things to do nearby. But the most important benefit is that everybody has commited to be happy when they are in the house. So anyone wanting to enter the house must prove their current state of happiness.\n",
    "\n",
    "<img src=\"images/happy-house.jpg\" style=\"width:350px;height:270px;\">\n",
    "<caption><center> <u> <font color='purple'> **Figure 1** </u><font color='purple'>  : **the Happy House**</center></caption>\n",
    "\n",
    "\n",
    "As a deep learning expert, to make sure the \"Happy\" rule is strictly applied, you are going to build an algorithm which that uses pictures from the front door camera to check if the person is happy or not. The door should open only if the person is happy. \n",
    "\n",
    "You have gathered pictures of your friends and yourself, taken by the front-door camera. The dataset is labbeled. \n",
    "\n",
    "<img src=\"images/house-members.png\" style=\"width:550px;height:250px;\">\n",
    "\n",
    "Run the following code to normalize the dataset and learn about its shapes."
   ]
  },
  {
   "cell_type": "code",
   "execution_count": 7,
   "metadata": {},
   "outputs": [
    {
     "name": "stdout",
     "output_type": "stream",
     "text": [
      "number of training examples = 600\n",
      "number of test examples = 150\n",
      "X_train shape: (600, 64, 64, 3)\n",
      "Y_train shape: (600, 1)\n",
      "X_test shape: (150, 64, 64, 3)\n",
      "Y_test shape: (150, 1)\n"
     ]
    }
   ],
   "source": [
    "X_train_orig, Y_train_orig, X_test_orig, Y_test_orig, classes = load_dataset()\n",
    "\n",
    "# Normalize image vectors\n",
    "X_train = X_train_orig/255.\n",
    "X_test = X_test_orig/255.\n",
    "\n",
    "# Reshape\n",
    "Y_train = Y_train_orig.T\n",
    "Y_test = Y_test_orig.T\n",
    "\n",
    "print (\"number of training examples = \" + str(X_train.shape[0]))\n",
    "print (\"number of test examples = \" + str(X_test.shape[0]))\n",
    "print (\"X_train shape: \" + str(X_train.shape))\n",
    "print (\"Y_train shape: \" + str(Y_train.shape))\n",
    "print (\"X_test shape: \" + str(X_test.shape))\n",
    "print (\"Y_test shape: \" + str(Y_test.shape))"
   ]
  },
  {
   "cell_type": "markdown",
   "metadata": {},
   "source": [
    "**Details of the \"Happy\" dataset**:\n",
    "- Images are of shape (64,64,3)\n",
    "- Training: 600 pictures\n",
    "- Test: 150 pictures\n",
    "\n",
    "It is now time to solve the \"Happy\" Challenge."
   ]
  },
  {
   "cell_type": "markdown",
   "metadata": {},
   "source": [
    "## 2 - Building a model in Keras\n",
    "\n",
    "Keras is very good for rapid prototyping. In just a short time you will be able to build a model that achieves outstanding results.\n",
    "\n",
    "Here is an example of a model in Keras:\n",
    "\n",
    "```python\n",
    "def model(input_shape):\n",
    "    # Define the input placeholder as a tensor with shape input_shape. Think of this as your input image!\n",
    "    X_input = Input(input_shape)\n",
    "\n",
    "    # Zero-Padding: pads the border of X_input with zeroes\n",
    "    X = ZeroPadding2D((3, 3))(X_input)\n",
    "\n",
    "    # CONV -> BN -> RELU Block applied to X\n",
    "    X = Conv2D(32, (7, 7), strides = (1, 1), name = 'conv0')(X)\n",
    "    X = BatchNormalization(axis = 3, name = 'bn0')(X)\n",
    "    X = Activation('relu')(X)\n",
    "\n",
    "    # MAXPOOL\n",
    "    X = MaxPooling2D((2, 2), name='max_pool')(X)\n",
    "\n",
    "    # FLATTEN X (means convert it to a vector) + FULLYCONNECTED\n",
    "    X = Flatten()(X)\n",
    "    X = Dense(1, activation='sigmoid', name='fc')(X)\n",
    "\n",
    "    # Create model. This creates your Keras model instance, you'll use this instance to train/test the model.\n",
    "    model = Model(inputs = X_input, outputs = X, name='HappyModel')\n",
    "    \n",
    "    return model\n",
    "```\n",
    "\n",
    "Note that Keras uses a different convention with variable names than we've previously used with numpy and TensorFlow. In particular, rather than creating and assigning a new variable on each step of forward propagation such as `X`, `Z1`, `A1`, `Z2`, `A2`, etc. for the computations for the different layers, in Keras code each line above just reassigns `X` to a new value using `X = ...`. In other words, during each step of forward propagation, we are just writing the latest value in the commputation into the same variable `X`. The only exception was `X_input`, which we kept separate and did not overwrite, since we needed it at the end to create the Keras model instance (`model = Model(inputs = X_input, ...)` above). \n",
    "\n",
    "**Exercise**: Implement a `HappyModel()`. This assignment is more open-ended than most. We suggest that you start by implementing a model using the architecture we suggest, and run through the rest of this assignment using that as your initial model. But after that, come back and take initiative to try out other model architectures. For example, you might take inspiration from the model above, but then vary the network architecture and hyperparameters however you wish. You can also use other functions such as `AveragePooling2D()`, `GlobalMaxPooling2D()`, `Dropout()`. \n",
    "\n",
    "**Note**: You have to be careful with your data's shapes. Use what you've learned in the videos to make sure your convolutional, pooling and fully-connected layers are adapted to the volumes you're applying it to."
   ]
  },
  {
   "cell_type": "code",
   "execution_count": 8,
<<<<<<< Updated upstream
   "metadata": {},
=======
   "metadata": {
    "collapsed": true
   },
>>>>>>> Stashed changes
   "outputs": [],
   "source": [
    "# GRADED FUNCTION: HappyModel\n",
    "\n",
    "def HappyModel(input_shape):\n",
    "    \"\"\"\n",
    "    Implementation of the HappyModel.\n",
    "    \n",
    "    Arguments:\n",
    "    input_shape -- shape of the images of the dataset\n",
    "\n",
    "    Returns:\n",
    "    model -- a Model() instance in Keras\n",
    "    \"\"\"\n",
    "    \n",
    "    ### START CODE HERE ###\n",
    "    # Feel free to use the suggested outline in the text above to get started, and run through the whole\n",
    "    # exercise (including the later portions of this notebook) once. The come back also try out other\n",
    "    # network architectures as well. \n",
    "    X_input = Input(shape=input_shape)\n",
    "    X = ZeroPadding2D(padding=(1, 1))(X_input)\n",
    "    X = Conv2D(8, kernel_size=(3,3), strides=(1,1))(X)\n",
    "    X = BatchNormalization(axis=3)(X)\n",
    "    X = Activation('relu')(X)\n",
    "    X = MaxPooling2D(pool_size=(2,2), strides=(2,2), padding='valid')(X)\n",
    "    \n",
    "    X = ZeroPadding2D(padding=(1, 1))(X)\n",
    "    X = Conv2D(16, kernel_size=(3,3), strides=(1,1))(X)\n",
    "    X = BatchNormalization(axis=3)(X)\n",
    "    X = Activation('relu')(X)\n",
    "    X = MaxPooling2D(pool_size=(2,2), strides=(2,2), padding='valid')(X)\n",
    "    \n",
    "    X = ZeroPadding2D(padding=(1, 1))(X)\n",
    "    X = Conv2D(32, kernel_size=(3,3), strides=(1,1))(X)\n",
    "    X = BatchNormalization(axis=3)(X)\n",
    "    X = Activation('relu')(X)\n",
    "    X = MaxPooling2D(pool_size=(2,2), strides=(2,2), padding='valid')(X)\n",
    "    \n",
    "    # FC\n",
    "    X = Flatten()(X)\n",
    "    Y = Dense(1, activation='sigmoid')(X)\n",
    "    \n",
    "    model = Model(inputs = X_input, outputs = Y, name='HappyModel')\n",
    "    ### END CODE HERE ###\n",
    "    \n",
    "    return model"
   ]
  },
  {
   "cell_type": "markdown",
   "metadata": {},
   "source": [
    "You have now built a function to describe your model. To train and test this model, there are four steps in Keras:\n",
    "1. Create the model by calling the function above\n",
    "2. Compile the model by calling `model.compile(optimizer = \"...\", loss = \"...\", metrics = [\"accuracy\"])`\n",
    "3. Train the model on train data by calling `model.fit(x = ..., y = ..., epochs = ..., batch_size = ...)`\n",
    "4. Test the model on test data by calling `model.evaluate(x = ..., y = ...)`\n",
    "\n",
    "If you want to know more about `model.compile()`, `model.fit()`, `model.evaluate()` and their arguments, refer to the official [Keras documentation](https://keras.io/models/model/).\n",
    "\n",
    "**Exercise**: Implement step 1, i.e. create the model."
   ]
  },
  {
   "cell_type": "code",
   "execution_count": 9,
   "metadata": {},
   "outputs": [],
   "source": [
    "### START CODE HERE ### (1 line)\n",
    "happyModel = HappyModel((64, 64, 3))\n",
    "### END CODE HERE ###"
   ]
  },
  {
   "cell_type": "markdown",
   "metadata": {},
   "source": [
    "**Exercise**: Implement step 2, i.e. compile the model to configure the learning process. Choose the 3 arguments of `compile()` wisely. Hint: the Happy Challenge is a binary classification problem."
   ]
  },
  {
   "cell_type": "code",
   "execution_count": 10,
   "metadata": {},
   "outputs": [],
   "source": [
    "### START CODE HERE ### (1 line)\n",
    "import keras\n",
    "happyModel.compile(optimizer=keras.optimizers.Adam(lr=0.001, beta_1=0.9, beta_2=0.999, epsilon=1e-08, decay=0.0), loss='binary_crossentropy', metrics=['accuracy'])\n",
    "### END CODE HERE ###"
   ]
  },
  {
   "cell_type": "markdown",
   "metadata": {},
   "source": [
    "**Exercise**: Implement step 3, i.e. train the model. Choose the number of epochs and the batch size."
   ]
  },
  {
   "cell_type": "code",
   "execution_count": 11,
   "metadata": {},
   "outputs": [
    {
     "name": "stdout",
     "output_type": "stream",
     "text": [
      "Epoch 1/20\n",
<<<<<<< Updated upstream
      "600/600 [==============================] - 2s - loss: 0.4990 - acc: 0.7433     \n",
      "Epoch 2/20\n",
      "600/600 [==============================] - 1s - loss: 0.2162 - acc: 0.9383     \n",
      "Epoch 3/20\n",
      "600/600 [==============================] - 1s - loss: 0.1385 - acc: 0.9650     \n",
      "Epoch 4/20\n",
      "600/600 [==============================] - 1s - loss: 0.1107 - acc: 0.9767     \n",
      "Epoch 5/20\n",
      "600/600 [==============================] - 1s - loss: 0.0895 - acc: 0.9817     \n",
      "Epoch 6/20\n",
      "600/600 [==============================] - 1s - loss: 0.0590 - acc: 0.9900     \n",
      "Epoch 7/20\n",
      "600/600 [==============================] - 1s - loss: 0.0569 - acc: 0.9867     \n",
      "Epoch 8/20\n",
      "600/600 [==============================] - 1s - loss: 0.0554 - acc: 0.9900     \n",
      "Epoch 9/20\n",
      "600/600 [==============================] - 1s - loss: 0.0429 - acc: 0.9917     \n",
      "Epoch 10/20\n",
      "600/600 [==============================] - 1s - loss: 0.0311 - acc: 0.9983     \n",
      "Epoch 11/20\n",
      "600/600 [==============================] - 2s - loss: 0.0251 - acc: 0.9950     \n",
      "Epoch 12/20\n",
      "600/600 [==============================] - 1s - loss: 0.0227 - acc: 0.9967     \n",
      "Epoch 13/20\n",
      "600/600 [==============================] - 2s - loss: 0.0173 - acc: 0.9967     \n",
      "Epoch 14/20\n",
      "600/600 [==============================] - 2s - loss: 0.0177 - acc: 0.9950     \n",
      "Epoch 15/20\n",
      "600/600 [==============================] - 2s - loss: 0.0264 - acc: 0.9900     \n",
      "Epoch 16/20\n",
      "600/600 [==============================] - 2s - loss: 0.0135 - acc: 0.9983     \n",
      "Epoch 17/20\n",
      "600/600 [==============================] - 2s - loss: 0.0160 - acc: 0.9967     \n",
      "Epoch 18/20\n",
      "600/600 [==============================] - 2s - loss: 0.0104 - acc: 0.9983     \n",
      "Epoch 19/20\n",
      "600/600 [==============================] - 2s - loss: 0.0081 - acc: 1.0000     \n",
      "Epoch 20/20\n",
      "600/600 [==============================] - 2s - loss: 0.0064 - acc: 1.0000     \n"
=======
      "600/600 [==============================] - 2s - loss: 0.5378 - acc: 0.7333     \n",
      "Epoch 2/20\n",
      "600/600 [==============================] - 1s - loss: 0.2182 - acc: 0.9400     \n",
      "Epoch 3/20\n",
      "600/600 [==============================] - 1s - loss: 0.1481 - acc: 0.9633     \n",
      "Epoch 4/20\n",
      "600/600 [==============================] - 1s - loss: 0.1058 - acc: 0.9767     \n",
      "Epoch 5/20\n",
      "600/600 [==============================] - 1s - loss: 0.0834 - acc: 0.9833     \n",
      "Epoch 6/20\n",
      "600/600 [==============================] - 1s - loss: 0.0642 - acc: 0.9917     \n",
      "Epoch 7/20\n",
      "600/600 [==============================] - 1s - loss: 0.0564 - acc: 0.9883     \n",
      "Epoch 8/20\n",
      "600/600 [==============================] - 1s - loss: 0.0424 - acc: 0.9950     \n",
      "Epoch 9/20\n",
      "600/600 [==============================] - 1s - loss: 0.0390 - acc: 0.9917     \n",
      "Epoch 10/20\n",
      "600/600 [==============================] - 1s - loss: 0.0273 - acc: 0.9967     \n",
      "Epoch 11/20\n",
      "600/600 [==============================] - 1s - loss: 0.0262 - acc: 0.9933     \n",
      "Epoch 12/20\n",
      "600/600 [==============================] - 1s - loss: 0.0272 - acc: 0.9950     \n",
      "Epoch 13/20\n",
      "600/600 [==============================] - 1s - loss: 0.0250 - acc: 0.9950     \n",
      "Epoch 14/20\n",
      "600/600 [==============================] - 1s - loss: 0.0174 - acc: 0.9983     - ETA: 1s - loss: 0.0\n",
      "Epoch 15/20\n",
      "600/600 [==============================] - 1s - loss: 0.0170 - acc: 0.9950     \n",
      "Epoch 16/20\n",
      "600/600 [==============================] - 1s - loss: 0.0186 - acc: 0.9967     \n",
      "Epoch 17/20\n",
      "600/600 [==============================] - 1s - loss: 0.0123 - acc: 0.9983     \n",
      "Epoch 18/20\n",
      "600/600 [==============================] - 1s - loss: 0.0111 - acc: 1.0000     \n",
      "Epoch 19/20\n",
      "600/600 [==============================] - 1s - loss: 0.0077 - acc: 1.0000     \n",
      "Epoch 20/20\n",
      "600/600 [==============================] - 1s - loss: 0.0068 - acc: 1.0000     \n"
>>>>>>> Stashed changes
     ]
    },
    {
     "data": {
      "text/plain": [
<<<<<<< Updated upstream
       "<keras.callbacks.History at 0x1156df8d0>"
=======
       "<keras.callbacks.History at 0x7fcdb0b8aba8>"
>>>>>>> Stashed changes
      ]
     },
     "execution_count": 11,
     "metadata": {},
     "output_type": "execute_result"
    }
   ],
   "source": [
    "### START CODE HERE ### (1 line)\n",
    "happyModel.fit(x=X_train, y=Y_train, batch_size=16, epochs=20)\n",
    "### END CODE HERE ###"
   ]
  },
  {
   "cell_type": "markdown",
   "metadata": {},
   "source": [
    "Note that if you run `fit()` again, the `model` will continue to train with the parameters it has already learnt instead of reinitializing them.\n",
    "\n",
    "**Exercise**: Implement step 4, i.e. test/evaluate the model."
   ]
  },
  {
   "cell_type": "code",
   "execution_count": 12,
   "metadata": {
    "scrolled": true
   },
   "outputs": [
    {
     "name": "stdout",
     "output_type": "stream",
     "text": [
      "150/150 [==============================] - 0s     \n",
      "\n",
<<<<<<< Updated upstream
      "Loss = 0.0608369775613\n",
      "Test Accuracy = 0.980000003974\n"
=======
      "Loss = 0.0724497369925\n",
      "Test Accuracy = 0.966666664282\n"
>>>>>>> Stashed changes
     ]
    }
   ],
   "source": [
    "### START CODE HERE ### (1 line)\n",
    "preds = happyModel.evaluate(x=X_test, y=Y_test)\n",
    "### END CODE HERE ###\n",
    "print()\n",
    "print (\"Loss = \" + str(preds[0]))\n",
    "print (\"Test Accuracy = \" + str(preds[1]))"
   ]
  },
  {
   "cell_type": "markdown",
   "metadata": {},
   "source": [
    "If your `happyModel()` function worked, you should have observed much better than random-guessing (50%) accuracy on the train and test sets. To pass this assignment, you have to get at least 75% accuracy. \n",
    "\n",
    "To give you a point of comparison, our model gets around **95% test accuracy in 40 epochs** (and 99% train accuracy) with a mini batch size of 16 and \"adam\" optimizer. But our model gets decent accuracy after just 2-5 epochs, so if you're comparing different models you can also train a variety of models on just a few epochs and see how they compare. \n",
    "\n",
    "If you have not yet achieved 75% accuracy, here're some things you can play around with to try to achieve it:\n",
    "\n",
    "- Try using blocks of CONV->BATCHNORM->RELU such as:\n",
    "```python\n",
    "X = Conv2D(32, (3, 3), strides = (1, 1), name = 'conv0')(X)\n",
    "X = BatchNormalization(axis = 3, name = 'bn0')(X)\n",
    "X = Activation('relu')(X)\n",
    "```\n",
    "until your height and width dimensions are quite low and your number of channels quite large (≈32 for example). You are encoding useful information in a volume with a lot of channels. You can then flatten the volume and use a fully-connected layer.\n",
    "- You can use MAXPOOL after such blocks. It will help you lower the dimension in height and width.\n",
    "- Change your optimizer. We find Adam works well. \n",
    "- If the model is struggling to run and you get memory issues, lower your batch_size (12 is usually a good compromise)\n",
    "- Run on more epochs, until you see the train accuracy plateauing. \n",
    "\n",
    "Even if you have achieved 75% accuracy, please feel free to keep playing with your model to try to get even better results. \n",
    "\n",
    "**Note**: If you perform hyperparameter tuning on your model, the test set actually becomes a dev set, and your model might end up overfitting to the test (dev) set. But just for the purpose of this assignment, we won't worry about that here.\n"
   ]
  },
  {
   "cell_type": "markdown",
   "metadata": {},
   "source": [
    "## 3 - Conclusion\n",
    "\n",
    "Congratulations, you have solved the Happy House challenge! \n",
    "\n",
    "Now, you just need to link this model to the front-door camera of your house. We unfortunately won't go into the details of how to do that here. "
   ]
  },
  {
   "cell_type": "markdown",
   "metadata": {},
   "source": [
    "<font color='blue'>\n",
    "**What we would like you to remember from this assignment:**\n",
    "- Keras is a tool we recommend for rapid prototyping. It allows you to quickly try out different model architectures. Are there any applications of deep learning to your daily life that you'd like to implement using Keras? \n",
    "- Remember how to code a model in Keras and the four steps leading to the evaluation of your model on the test set. Create->Compile->Fit/Train->Evaluate/Test."
   ]
  },
  {
   "cell_type": "markdown",
   "metadata": {},
   "source": [
    "## 4 - Test with your own image (Optional)\n",
    "\n",
    "Congratulations on finishing this assignment. You can now take a picture of your face and see if you could enter the Happy House. To do that:\n",
    "    1. Click on \"File\" in the upper bar of this notebook, then click \"Open\" to go on your Coursera Hub.\n",
    "    2. Add your image to this Jupyter Notebook's directory, in the \"images\" folder\n",
    "    3. Write your image's name in the following code\n",
    "    4. Run the code and check if the algorithm is right (0 is unhappy, 1 is happy)!\n",
    "    \n",
    "The training/test sets were quite similar; for example, all the pictures were taken against the same background (since a front door camera is always mounted in the same position). This makes the problem easier, but a model trained on this data may or may not work on your own data. But feel free to give it a try! "
   ]
  },
  {
   "cell_type": "code",
   "execution_count": 13,
   "metadata": {},
   "outputs": [
    {
     "name": "stdout",
     "output_type": "stream",
     "text": [
      "[[ 1.]]\n"
     ]
    },
    {
     "data": {
<<<<<<< Updated upstream
      "image/png": "iVBORw0KGgoAAAANSUhEUgAAAP4AAAD8CAYAAABXXhlaAAAABHNCSVQICAgIfAhkiAAAAAlwSFlz\nAAALEgAACxIB0t1+/AAAADl0RVh0U29mdHdhcmUAbWF0cGxvdGxpYiB2ZXJzaW9uIDIuMS4wLCBo\ndHRwOi8vbWF0cGxvdGxpYi5vcmcvpW3flQAAIABJREFUeJztfXeYnVdx/ntu396bdiWterFktVVz\nkWW54G65YhyKwcRJIIRUwMmPAIYQWnCAGIJjOxhiMDbYuMRdllxl9V53Ja2kXW3vd+/efn5/3PU3\nM0daabGtKzn3vM+jR3N3zv2+87X7zZyZeUdprWFhYZFZcJ3pCVhYWKQf9sG3sMhA2AffwiIDYR98\nC4sMhH3wLSwyEPbBt7DIQNgH38IiA/G+Hnyl1BVKqX1KqQal1Fc+qElZWFicXqj3msCjlHID2A/g\nMgBNADYA+JjWevcHNz0LC4vTAc/7+O4iAA1a64MAoJR6FMD1AEZ88AsLc3XlmGIAQDIUFbqk30+T\n8srv9XYPOnJRSbYj5/jzxbimI8ccOZ6U28jJp+27QDtQ7rAYFx6gH8KcQrfQuRJZjhwcHHBkf1aW\nGKeYHZWfmyt0wQE6lqSKCZ3HRXPMzaHvDQz1inG52aRzKbn9cKSdtucmnceTDQk6zkhYXotEMuHI\nih1MLB4R43xZdJKjIXmuonHaZlYg7sjBaFyMy84K0Dzk5sHfSRq0vfy8SjHO66Lz6IZf6DqDdD6i\n4RDtN9snxsXYDVOUVyh04Rh9b2hoUOjKCqpp/nG6Tl6PvC4KdJ9FEvKeU5rOnZ/d/EMReX8E/HSu\nhqJDQpftSz1XjY1N6OzsVjgF3s+DXw3gKPvcBGDxyb5QOaYYDz7y9wCAwS3NQheuneDIhWOkFfLM\noxsc+cZPzHXkpZOuEOP+4XP/z5G7InIbiy+e4sgBVDiyr2ifGLf/VboxF67ME7rs3tmO/ObmNY48\nYfpcMc6XTTfRpcsuELp3XnvHkfu9LUJXmT2Z5lu31JFf2/m0GHf+/AsdOddzvtDtafwPRy7NJV1Z\n6TwxLskepIP1h4Wuvz/oyB4v3WytnQfEuJo5dAMf3SJv9GNtdH2nT+9y5HVH28S4eXNmOHL9AXnN\nYmH2o+NqdOSPLPuyGFee0+HIRa7xQvfgG3Q+ju7b6sjz540T45q76OG+ecX1QlffvMWRt+5YL3Sf\nu+Zbjnyo+ylHriiU192j6H14YGCv0HljxY48sYjuzR0H28W4GZOnOvLupl1CN7fmNgBAXd3VGA1O\n++KeUuoupdRGpdTG3p7gqb9gYWFx2vF+fPylAL6utf7I8Oe7AUBr/a8jfWfSjEr93Yc+CQBYMHOG\n0K3+wx5Hvvaj1wrdjx9+wJHzwmRWX/mnt4lx5cz0rH9tu9A98fJzjvzJz33ckR/+zh/EuAnn0a/v\neXMWCt3TD7/uyBddfJUj94akSXaoi+07khC6WdPmMPkcoQv10NvwmXWvOPLcuaVi3OrV9Ab61pd/\nJXRJNDmyC9OFhuPIof2kSUjfylVC29D9tY5cIC1gtA2ucuRIv3zjN+xl28wjG77lUJcYF0zQWy2R\nK12OG1fSm333trcdub71LTHuH1Z+w5G/9siXhG6wt5/mOEgvntJxFWLc0pn0eVt9vdDdvHKRI4/x\njBW6vQN0HuflfcKRY0ref82xdY4cHZwodEk3ne8pufTGdmtpkEcVnav24ItCV52Xsn4X1n0GGzfu\nPaWp/37e+BsATFFKTVBK+QDcBuDpU3zHwsLiLMB79vG11nGl1F8CeBGAG8BDWutdp/iahYXFWYD3\ns7gHrfVzAJ475UALC4uzCu/Zx38vmDp9nP7pQ6lV/ex8ufo6dVaJI7/59O+ErstDq5nV1eQHHtgk\nV6PnL+hx5NwCuYr93IMN9CFBPtWYBbViXHKAHFmVI0M3FWzOrzy/1pEnLS8X41YsX+nIe97ZKHQN\nuygQcs6iaUL36mpaQ7hgCa3qT6mVYctdh444cmWO9Dl92bQGMmc+6drbZUiwJ0m/1+dW/ljotCYX\nMabIt25seUGMQwFFIaZmy3WZJOi4V79Ioc9Y+UExbu8uui7KJz3PvJwljlw2ls79jgNrxbjgwCFH\nLvHLMJ0vh9YXyvNrHLklKcOP44pyHPngngahO+8jdJw+l1zPGeej6EBugCIgLQMyWhRKUjh1duEU\noQtrCs25Fa3ndMbfFOOC/TTH2uIaoXPr1DYXLbwNGzfuOq0+voWFxYcU9sG3sMhApNXUnzJznP7x\nI6kQTesemQxyNEymV89huUZ4tIHM1Dvv+CQpKrvFuFkTyRSqyflzoRvAQ478zMOUONPcJ8NLC+bN\ncuT61jeE7oZlFK5pa6KEj6dflkkdBUWUBFS3rEromvflsE8hoZs1h8zGg/UsdBOT4aUZtRc7ctwr\nTfgjB7c58uLzyRx8/lWZUHn1+XWOrAplaMvtpnvCFSX3qb5JmscXTCJTvC8iw1dNA+SGTSwlN2BX\n6x4xblbeTEfOyikSuq//5B5HDsXI7Rpqlyl+0y+mUOIXPvJTofv8v91C4yopjDb/0iViXEMj3XNj\nCmRm4IsvPu/ISxffLnRlk8jtGu+jhK9oTLpxbUG6RwqKzKxBksvzah25yCXv771tmx15QfWdQtcc\nT4V/r1r8Y2zb1GRNfQsLi+NhH3wLiwyEffAtLDIQafXxp08Zrx/495SP/+xbq4Xu/331C478/JMy\njFFQST7RM09QmKisSuaQ/sM/fcaR97VsErq5VX/myAlWW/Qv35ShLG8tFZcUdctQWaKAfLj588g3\nXXjuIjHugf/8hSMXF8nzu2U3VRDWnS9TNz9yMYUgV6+hdNhZs8Uw9GKMI1dXyUKiN94kh7F/aKcj\nX7hIpjcfPUbrFw0tcg2hqIy2wX3VPJesCPMG6POMqVcKXX6SCni8iuar3NL9fPAh8p/L58hzVVZC\naw+8ei4ckTUf3Z20nuAOzxe6rgCd7yovhYz7eo+JcdFeSpfO1dIHT5SydORAn9Bdf+FNNI8+Wpdp\nbX9bjNuwheZcOUFes2JFad2XL/qYI8e0fA6yFIUB69t2CF1lRSpceFHdvdiy8aj18S0sLI6HffAt\nLDIQaTX1586bol967UcAgP7dMiQTKqSMqJ1bpIkTCFCtfj/oe/te3ynGlUym7KiWBhkq+/Q/UXZd\ndSHVz+d4pGl4348oHNTRLyvaFl10qSMP9r7qyOEBMQz5biJn8I+XyouWnOfIP/633wvdV/+eQpDr\nNvzckRcsvEiMa2mia/b0uteE7k9vut+R/+2RzzpyMkeG4q5aQK5KVaH0JbY3kZnaHaL537rg42Lc\n1rZnHXlcxXSh8+haR46FyG1pjchQ2cFjZLIe2SAJTQ6EyQWZMoXMfpOEojiPst1275M17CFWCl5c\nSuHCveule7NiJZ3jwjJ5b350/l2O/NiGR4Ru9nh6d7a00/1SkCPn2Mtuksunf1vofvvc1x25fCYR\nifg8ch6LaigE2ZEoEbqjh1P34x0rH8SeHS3W1LewsDge9sG3sMhApNXUnzh1rP7mfV9MfeiRq6pD\nYTLJYjFpJhVWEGnHoY2UKTVunjR35s4iU+4Pj+4Xuiuu+itHrq+/15FvueVrYtza3Q87ckIXC11D\nQ6sjh5JkTYWOyqKOWZOWOXJZtZzj4nnkLvTGHxS6J35JWXi+AiqcnDynTIzb/TaZs+4KeR6LCqig\np2M/mYoXXipdmqljiL4rrjcIXX+YilJ++SxRV7m90vW55vK/duSEkpx+e7b+pyMvWnK5I69+Xe4r\ntJ9WyfsK5Yq5v5iyHg8eoqKXgrJaMa62mvYd65KFVQ2tlP122Qo65q07pZu4bzUVbpWMlaQifYwn\nsXKivCc+edtHHHnXGxRxWni+LBIrdlFG6KGQzAjt76Uok4cV6cyokkQwD79I2ad3fuRnQhdEyp1a\nVvcFbN6435r6FhYWx8M++BYWGQj74FtYZCDS6uNXVhXrT96Z8vcqa2UlVixOvqkOSQpmb4JCcbf+\n5XWO/PKvfyvGffozf+nITR0yJJibRb5YSwfRIO88JivrzjuHfPBEQPrnTfvIl9y1+38c+a7bbxTj\nXnuTiCHglwSSG94mso0x48cIncojf9TbT0Qchw0q5YoxBY5cUihDYMWT6HNtLVUC5oYlYWe3pnWD\nsQFJ6hAMEw219pFf39F/SIzTSSLHmFQisxy7E1R9uXYd0UlfueRcMa6F8Vr87xOSdnr2Qjr/L62j\nyrQv/skdYtzWXURk2RaU57vpCGVirriUsgtziwrEuHu/+yNHLvJJ4pOJk+lzXmmO0CUDlHVXFqe1\ngS4l5+H1UXh5oZGKeWgXndd9e2ncZ2/5KzEuoWnfLsjrmUikwoyLF38NmzYdsj6+hYXF8bAPvoVF\nBuJ9kW3+sdAqichwy6qhYI/QJZKU2dS8Q4Zk5s4jk/Jbf05ZT/Ouku6CUlRQMrZcmnL/cd8PSTeT\nwnJJjyz4eGI1cdGdN1eGZBpDFHZZee01jvyfz/xAjJueQ4UbXoMbvbOVeNlifdIiu/q6Oxz5+S3k\nEmRlS25+sHZM7rgs+Ni3jY4tESc37q3XXxLj5s6jbMjAOZKIY6iD9teSJL5D1Wf0JcunDL9AQhKO\nZJfTcV68hLL1njYIQaaV0/mZUiFDZQUB2l9nC12nnPgRMc7H+PI2vCX5+DBArs/zrLdCgU+22lqy\nmMJthTWThK6rmchDdFS6Ae5sKhA60E5mejgh7+ErF1LWXbHB27eR9Rq4+RYKBX//FzLUfNcd5K7+\n7MevCN2n/iKVERo3+ieMBPvGt7DIQNgH38IiA2EffAuLDERaffxkDBhsSfkgQ0OdQteXJJ9rICR9\n2jxG/jhuLvmOk0ukbwqQ72R6OnPOJ/9x1VYKn5w3Xfbwy55AvO+TJ8hKsje2UNjoP7f/xJH/6s+l\nL/Y/D36X5qGlD750OfnC2ze0Ct3eevKZlab01ZhbVvj1ecnfrTf6vC27knrzbV9L5/j6KyTv/ePP\nUs89Hbtc6IrHUPh0XjXdIodzZSiro48+v7JbhhyvDhA5SRDUzfbqFbPEOG8PrcWUTpG+74++Tf0V\nSnPJV/+7f5Vh3MIcuobLr1spdL//FW2jKE73y1uvbBPjrrx9hSOHemQK9rRqCn2eM1mmPjf30brS\nI1t+7cgVubIacmLVrY784jvfF7qV11IlZgKUjn3H1ZKoJQe0Lnb1tbLv4q7dqRT1obDRa3wEnPKN\nr5R6SCnVrpTayf5WrJR6WSlVP/x/0cm2YWFhcXZhNKb+LwBcYfztKwBWaa2nAFg1/NnCwuJDglFl\n7imlagE8q7WeNfx5H4DlWusWpVQVgDVa62kn2QQAoKy0SN9wfYoTPlQo+ezdnZSJtHSW3JRvAoVG\nWlvJFCqHdAkWLScyhUROv9C19FGWXFkebeOJx2VYZP5UMuUq5smwTudR4vHrGKTQzUC3NMXjQ/R7\nmuOTpn7TUeL0HzdJhhzzc4kg5NWnKfR0zmJpHg91UBjQNUZW5zUfpAq/gkJWtWaYgMtZhmJhgVGF\neIQy96ZOXuzI21/dKsZVjqOMv9pLZHj23DJyH7SHsufc+nwx7mePUJh13qKA0L3+Kh3LQJhcn4mX\nLBXjdrxNvH2JPlnJ2N1H7s68cXRtKwvlff/8Kmo9PvtyGcaNRemanTtXhi0LfOQOxuN0Ty+f+mdi\n3J4mup7l5bKS8Z+/T1V3c89d4MhtDZJX38daui254jKhqyxNObc3L/smdm5uPG2ZexVa63fPRisA\n09m2sLA4i/G+V/V1ymQY0WxQSt2llNqolNoYHuXCg4WFxenFe13Vb1NKVTFTv32kgVrr+wHcDwBl\nlcU6WeoFANx08QoxbsvrZNbUVsvus09sJH67yRPJdN51VJJtbL2fMqzu+cE/Cd1Pf/gHR/7cHZRF\n1TskW1AlFP0Wzh5/tdCt6iJTv6CFMrhau+Xh+6JEz/z2Ltlaalod8fGtfqlF6OZeQCZgFiPUmO6W\npn5bEa2St/XJlfDDDVTocsN1ZA4e2NAhxvUfo+N87L8kj1xuIZn+v/oprUCXFcs13PJ9tPpdulVm\ntL2gKGpw9Rfper60+n/FuOnTiPRj9oSpQnfubbS/ux96wJEbtsoOxN3tZNlWGh13a0qoLRm85Eq8\n9Po7YlwyStv4k+s+KnT3fONfHHnOFMnleHAvRQfKyol38EfrvyXGLZ5IUZUnfvWA0H27iPZddD2Z\n+s/ukHyK9ZspVjXYIaNiT6xKRaN6uuX8RsJ7feM/DeBTw/KnADx1krEWFhZnGUYTzvsNgLUApiml\nmpRSdwL4DoDLlFL1AC4d/mxhYfEhwSlNfa31x0ZQXfIBz8XCwiJNSCsRR9W4cn3n36cymFq3Sx+l\nLI9IDLIKZVgn5iX/dNMbRPDgTsrsqGUzKLx0tFf+pg3EKNstMJVIEnRCEjz+zVeopda3v/EPQnfD\nZUR++ORvaN1BlctWXgXNZEids0xmWO14h3zwkLEm2jFAVXfjqin8GPdKUodDW2ht49rbZYpF+34K\nKbU20/rF3r0HxbjOMLXJyvJ6hQ6a1g3Gjicf+cjhJjHM66HjrKiQYTRXiHzNG1ZSJWO08nUxrqi6\n1pHr5ksyj0CSwp2b1zc68hNvysy6BZPpe4375XrL+YtuduSOo0SwOdgjczs9XsoczffI8xEcoPWn\nSK+8X4rG0/xdQ0QSO3OKPJYDnRTyva5Uru3s2U4Vi79oonWNZbfJsLann9ZRXntBkpbWzk4F1r7/\nnUdw5HCbJeKwsLA4HvbBt7DIQKTX1K8o1Xd8LBXWiEfiQhdj0+iNStP2ns9/2pF//RiFnhbMkWGu\nfk2FHGtef0vo2o4QYcI5i4j3remYLHLxeMicygnIzLp9LWRin1NKpvieJplhFeyjrMHqOZKjPdxL\nY3t7ZFfW5dcSOca+t8jsTyRl/kOBIleossLgBWxhZmmS3J3V78juwdkBMm0jQ2GhW1hHGW5tbcR/\n2NcvsyEjEXIJzPsoO5tCk9EkmdVV+fKYP/slyiBs3i1Djk37aX8XL6xz5ENtMmRVzvjz/FreVwMR\nOraZYyhM2XDosBi3aBqRvTy3SxJ95OXQ+Z5RKLPuqqopd22AuQHP7ZDb92VTQVNX81Gh6w3THEuK\nKROwt1+Gmn0usuBrq2TOXG5xKvP1q9//CQ4eabKmvoWFxfGwD76FRQbCPvgWFhmItBJxRGNxHG1N\nhfGmTxovdLkeCs3lQKahPvnE446czdIuG+ulHzUYo7WBy2fJyrr+cyk00niU/Nal5y4T4/bUE0nH\nkBG6ufLjRKaw9pdUbaXi0qXSik5rpEf6z537yQedMLla6PI7aM5XX0hrCIFsmQ7b0EDhrLXrZVpn\nXiF9b91mqjjzueWlLmTh0/IaOQ8dp6pHT4Jkv3G3eD20TjB2nCSN2LGLQmdK0/mJl8hKwKceIr78\n2Sx0CABXf5qqLXc8S+HIuEFg2hSiMJrfLa9FN1tvWTaX7oFt9dKPV+y++qRR/ffKFgq3+QMy1Jxf\nTGssh5ppjeKKObJt+K9XU4rwVQsk+UuOn7b5qzU0boWxjfX7aM5utww5FgyvQ7hdo3uX2ze+hUUG\nwj74FhYZiLSa+jnZASyZkzJzWlok35zLT2bjvBnS9Fy1hUJuf3sHZWLtPSiz0da8TiGr4gky7KIT\nFFIKMxKN7SFJCIIAmeJhI7ur/xBlXM244jxHPtwo23At9RCRQ2GxPMVZ51E4q71FhgFXvUpme34h\nEZP4s+WxdPVQFliX9Eaw5wBVi4VY9lxWltxGJEIhwqYOGUbrO0DuTmkhhcqCQem2hKLkkvX0yipE\nv4+OO4tx2LsMMsQ+RlqSVyg5/V7/DW3T4yJXMGCY27Ul9L26WdKMfm0TnY9YhFzB6dUyHPbKFnKf\nblghQ6Q33ESVdbpHZgYePEDu5kCE3IxwRGamXjCdMvkmjJUty17f2ejI+TnkCu08KsN5YyrIjXND\nZq22tqT2F4vJcOZIsG98C4sMhH3wLSwyEOltoaWBeDK1SnzeQslr1txA5nxfUK7qB1jRxH88+Jgj\nL6uTBTAFY8hEW98nTa38QTKBSkvJ7PXnS768vFrqZNr55h6hG3KxjMJBMo8nVMqCjI4mKmbpPiCP\nRUXJ7M3Nl6at8lDm4ZEW2n53t3QJqmsoIuLxSJPP76XPXrZ9r1d21Y2zbLrubmlS8ky1zm7yJZJG\nURHPJBsyTMxkksZGY7Qvb0C2LHMr2obPL8+Hy0XbCGSRizRvqozYcJdvfb2RFReifSdCtO+eHskR\neMlcyposrDWiHNy890uXyaMp6tHVSeOyfXLVfUDRsa3edkDo2KVAP4tQFObLzNHSUiI08SRkNmdw\nOPXVZVf1LSwsRoJ98C0sMhD2wbewyECk1cePx+PoaE/5k+dWSPKKkjLKJKs/JIkKJtVQxVKuh3zC\nYyEZXqqPU/iqvEtWcO3uJ1+sM0IhvNIcmUl2pJHaWM299GKh27HuBfreRFoLqBgjSShadxNJx4QJ\n0h9tPsK44qW7izHjyXcPMiLLrGzZ0hkx8gPnnLtIqJJR0rU00rqJMqrnBsK0tpEMy3UCrWhsPE5r\nFC6XHBdiGX75ATlHpWisZusOSS0z6/oHKbMuWS7bU6FljSNOYX63O09mMmrQ+kK2S27/M9de4MhZ\nOeRn1zCiEwCIJWj9xmWEC9VYIgRNNEv/vCCHfP4+Fu4snlYrxiVZaLWvW7bQ7gnTeRxTTvdSIFvO\n42gLPRcl+fL5iSRT5yA5ympb+8a3sMhA2AffwiIDkVZT3+Vyw5+d4sXfuE8W2FRMpIwrj5bZUZ3d\nZA5GplEhR8Qj08DGhihk9VbnPqHzFZNJ3x2mUJ/eIUk/qs8nbvc3Xn5V6NxZZHr17qDikmPr5TbK\nFJlhTQel27JrH2UsdvRKdyQJMlP7ghRGW1Qrw4XTZxH33/Q5i4Vu61ritAuzbMjeLpkpqRj5Q66S\n5nE0TqZzmZfeDXEjnJfw0O0Tj8twnmZegWKqEAtXAUCUka60t0guveIAhfDKS4mLLhqX57umiMK4\nlyydK3RZpayFWRm1v/I0ydZjmpn6yjgfu56mngyeuDwHR9spLBhx0f0Rlt3dkMeIODr6pamfXUDn\n0ZWkLyqXDAle89EbHflYU7PQBYdSrpvXcFNGgn3jW1hkIOyDb2GRgbAPvoVFBiKtPn5SJxGJpnxL\nT1w6QU17ibghGpX+ojtCoaeja6hvWnGdrHLa3UsEG9ePl+m8z3dQxVlRkPzFtriszitspH21NUr/\nPK+WpaG20PrCuEkyNFR9DoWe1v5+r9A1tdP+tHH6O7pIN7OK1iSWLJStpbPyqXJv6+rnhK6jjcga\nOjporSQclSmeCUawkSOjdPAzFzchwmPyPZFkn8MJ6fu6GGtHhPnF4ai87n4frcvs3rZZ6K5cQv56\nsJdin10R6eMvnl7ryN4xsr9f9BitbbhYiFEpOQ/3dFpjSirpWzccofN49S03Cl2AVZk2JagSMKtA\nhttmz53pyNmNMq14w2ZKDZ89g+aRWy7JatrjdK78488VuiRSYUBX4HsYDUbTQmusUmq1Umq3UmqX\nUuqLw38vVkq9rJSqH/6/6FTbsrCwODswGlM/DuDvtNYzASwB8Hml1EwAXwGwSms9BcCq4c8WFhYf\nAoymd14LgJZheUAptQdANYDrASwfHvYwgDUAvnyybXm9PlRWpczinkMGn72XQjcJI2zEzcMYM1HD\n+2RV2YKLycRuXS8r2grGUljH7aNQVmGeNNOLKqgi6rxZ0qTc+BaFIMeNpeyxg+tlFV+4jbLd+gbl\nNjj/fJfBm54ToMsxczyF8IIhGf7paqNQVFuT3HeIZTNGWciOn7fUPFgo1Mh287IMPc6Xx8ONAOBK\n0Ocso0rQx6rT5s+j1s9bd+8U4yZNJxO46ag0gX/7EhGT3H4Z8e9NmSxN4NqrVtIHbVTPVRl+zChg\nvg3Pu/IqRw7F5SPTw4hEyovp3hmfJ0PNTRtWOXJZ7QKhu/UTtznymGo6tj4jC+/zf/1t2v6M5UIX\nVilXrndA3m8j4Y9a3FNK1QKYB2AdgIrhHwUAaAVQMcLXLCwszjKM+sFXSuUC+D2Av9Zai5YqOvUa\nO2GSsFLqLqXURqXUxmBw8ERDLCws0oxRPfhKKS9SD/0jWusnhv/cppSqGtZXAWg/0Xe11vdrreu0\n1nW5uTknGmJhYZFmnNLHV6n8xQcB7NFa/5CpngbwKQDfGf7/qVNtSyeTiA2Hldxu6XvFYuSDhoZk\n6IlXekVZk732TsmeEzlK3/P5JONM5zoK9XlctJ7Q0ytDdpUriWd/2zsyzfVf7yaCzQd+RKGnuNHr\nr76RfHCPX4Z1+hjRp9cr+8jl+RjxZB79SJbmyHF7D9NvrN9o6Rzz0Plxuyk9VhmppmBpqdogwIyD\nzqNit8hxfRbZ2oDX4LP3srUBn5uOa3HdQjHupTffdOQco8KvnHHw51eSJzn/6pVinEIe/zAqhIJv\nis/ZuReMMBIomzR3RN3caqrcm7t02YjjToaLVn7WkXNz6Vz198n0Zr+f7oNjhx8QunevTKhP3s8j\nYTRx/PMBfALADqXU1uG//SNSD/xjSqk7ARwGcOsI37ewsDjLMJpV/Tcx8u/oJR/sdCwsLNKB9LbQ\nikbQeDBFZDAmT/r7QdbO2CRrCDFyCaXJFHIbLZGbXiXTv9No6Tz9agqT9Eep8q3tbUnqsP6dXY6c\nFZIhsH/927WO7C+g701cIFs/uSIUIjzcKsOK3DQfMFyaOKvGcsVJd8wgf0jGaJHUrIrjzI0Bxmc/\nZOwr5qHz6EpKE55/ZAV4cOmRl4SU4QVwt6CtibUonydJVsvLqLKup1cykwywMOaadVsd+dqP/emI\n8xgtTmbapxvJJLmKbjedDxWVFYQRFtbOzpIupC+7aPj7lmzTwsJiBNgH38IiA5FWU9/tcqMkN2Ui\n94el6RlhpmHcWPGHJhM4zlb/I8ZydJBxu2vD5Nn6HGUKxhhLQsIrT8GkSio58OVKE37nfir0yY2S\nKzFxnCxT2HtovyOHYkZGG+e9j0qdx82yF1mmncfIuvMw+ztbBi9EtCTIeN6UcU69rKVYLCnPo5dH\nCpJ0Tt2mqc9472GQVwTyyRWfl/jxAAAgAElEQVTyBGiSDXskQcpAFxFZFJeUC13/AJn6bt//nVDw\nky88Lz5PmEjkL9s3UbbiDdddJsZt27bDkdvb5Op9f3/KpYzH5HM1Euwb38IiA2EffAuLDIR98C0s\nMhDpJeJIJtE/nLnm9shdl40lf9rs5RZg/cmC/RSKCw/K3P8ky3zTWvq0xYw/v6OTthGNy9522w9S\n+O3WFZLn/dARyv7LSpI/PhCSGWfnLSKu+y07dgldVy/tO+Y3+PIZOQRv621W1g2xfXsMcsVwjPx6\nvo4Sjcnj9HvJj/cYoTixvuCi66SMmB0n4ojF5TpBXx8dZ8GYiY48dqwkDm1kXPGDQ5J81M/WXw6y\ndZMPO2644krx+b+fpCzCACMYfeqpZ8S4q6+6zpEXGRmQr6xOrQ3Y3nkWFhYjwj74FhYZiLSa+tlF\nPiy4qRYAcHC1zKyL8+w8I5Msxopg/FkUGhockkUMOQEiYYgZvOYFU4mnrqqauPq2bNot5xGi8NWj\nT8qwy4rzlzrykWZqhb1+o+TVS0wnd8FttDMuzqdWYZ3dbUKXxbIZ+YXxZueJcV1DdD4a9srwWEcP\nuUlJFt4sypaFPoWKTHOfERb1MTeMXwqT4qE/ylptGxyKsSHa9+EN6x3ZvXmTGDezijLVOjul61Yx\nidy/bB9/RxnZium9jd833t4hr1mZjzJOO5J0v9zy0c+Kcbt3bXDkgOHi9Q9nqiYMt3Ak2De+hUUG\nwj74FhYZCPvgW1hkINLqHIV6I9j6TCp1trxEkly2tBG5hMsIDRWznnVHOynFs7dbEnH4WAvtEr8M\n5zW/Q5VOXhbKchuhrPJCSr91e+XvYn8L9SubWElzzJ4mK71KCigsteGXW4VuUjVtf1ndLKHTfXRs\nbh8dyytb5DpEXzeN8ys5x7F5tIag47QGku2Vub2DEU44KsOKoUEK/UWSjARFS/+xJ0K+tsctb6VK\ntqbgUiwkaJCPDHpp39GkrM4LBWn+d3/r8/Sd8CExrqeH+hG4EvJYqtj6iCqeyDRn7p133uxp8vNP\nfuzIvPH7wWPy/t6zm3pKvP3WG0L3bhq3NllVRoB941tYZCDsg29hkYFIb3VeMoG8wZT5cuViGZJZ\nz0zKGdOXCt2hBiKiqC6jkF1/UFZzzZlKZBu1kyYKXWMDhVB6ghSYmrtAZudVsBZMzW2SP7SwhPbd\neID4+MaxUCEAvPM2tXt+K1/y3q/dS9+rKpDtu2ZVELlCmJGRzCmTZCEDLLTV1tMndINRxunH3IBo\nRIbKynLJJSjOleZ3ZIhMTMV8IU9S3i4VzLx3uaQuwlpqBXwkF+VIU7ywiLjoWzrlsfQOkuHb0Ujh\n08TEajEui1XuBfuleYziSY4Y0+TuuZWcR1sLbV9DhmArq4j73wV5LT5o+FmocuYYGcb95X3/Th+M\nXggv7ktx8H3hpn8Z1X7sG9/CIgNhH3wLiwxEWk39vLxcrFieMuNjWdJMv/QmyuBy9UvK6CmTiKjg\n5W1U0HDuR2RHXDfLgFK5cvt1UysdOZpNq9PuQWlOBRn5Q06RbA5UVEpmni+Xsv/y8uSK+cxZZEbn\nFz8p59hGK9fdA7JwZvximmOwn8YV5kuz9BjruNtpLOJ2sfS67ATjcvNI0zDIzGi/V+qi4Buld0OH\nwdvnYa5Eb1Lm9cVBrlthkqIyY2qkqZzrZxEWl7zuA8zlWLaMqKtd3rAYV5hV5shFhfK6K5Ab41WV\nTCNdzYoq6j7rOglHdwKHxWfFxipWGNZjkKwU+SvZd0bGIA6yT7JYzeUiN3RfxytCV5zdCQBwu8ys\nxhPDvvEtLDIQ9sG3sMhA2AffwiIDkVYf35vtR9W8VJjNly39584OImQoq5F+d5hxzC+9iAgIqidJ\nMsyDByhkV1Auf9MChRQ2ytfkcwY9kvwB+RQaivdKn7a9jz7n5DICySbp9w2xjLn8pCTizMmjNQQP\npIMeYMQcMS+rbmuVYb+OIM1DG1VxxSzUF49yb9Ig/WQ9CZKG08k58d2MRDPLICYdCNMaRaFPVosp\nRirKCTxcfrmNjlYKmWb55DXLzSPylBCrSKzMrxTjkqB5uN1lQqfBq0BzmSz3xf16DXlOFaiK0g25\n3qJBx53qK5uCV8t24Ac6KMQb6pXrIU0sE/MjC6+hOampYtz69n905B275DY+seJzAIBs32MYDU75\nxldKBZRS65VS25RSu5RS3xj++wSl1DqlVINS6rdKKd+ptmVhYXF2YDSmfgTACq31HABzAVyhlFoC\n4LsA7tVaTwbQA+DO0zdNCwuLDxKj6Z2nAbwbW/IO/9MAVgC4ffjvDwP4OoCfnWxb/iw/xs9JmS8D\nPbIgI29MrSPn5ywWukSYiC7cLsqeazssW0tVlk135IBXhoZUmMzqhJ/M70Rcknm0dXY68tCgDBvl\nl5ApV1NZReNiklQEg6zzr8FzXlpI4azBQblvXl8RZZG+0uISMS6Xmdx9PdJV6QySK9HDzFePUY00\ntoCOJWq4C25eVMNeDbkGn1uSdW8NGK0Q8ny0Dd7l1WUcczRB25xSWyN0RcVk0leUMvdPy+w8D3dj\nlDSBFRg5C8gVdKNWThiUUXmkZ7vQBIpo7MEWqZtfdakjDwxRQVZpluywmxdgj5r0RnAuk9/peNyR\nl5TdIsbNrLjekX3uHUL3uzX/DQDoGZBu4UgY1eKeUso93Cm3HcDLAA4A6NXacRSbAFSP9H0LC4uz\nC6N68LXWCa31XAA1ABYBmH6KrzhQSt2llNqolNrY0dF76i9YWFicdvxR4TytdS+A1QCWAihUyrEJ\nawA0j/Cd+7XWdVrrurKywhMNsbCwSDNO6eMrpcoAxLTWvUqpLACXIbWwtxrAzQAeBfApAE+denfZ\ncA97NIWFslpMg5FtQraW9gSo+q2ng/z9pEs6lq0dRxy5tFRWzPUwAo+A76gjd7VJP37GovMc+Wj9\nUaEbaGbzGkd+95ix8jRWFdKxROKy4qyohPzWLtY3DgDAw2gBWqNIhmRqb4T1EmwPSh8/wfj4c1kq\nbpnRljyfpRn39Uu/WGuav2axvmyfXDdxs6UBM1E0xEkfmRwckD5+MSM+9Rt9Btr3kB/L20dDm+eN\n7eu44BKt2XQG6X4JeJvEqE0N1AJ9+Yyrhc4DCj1XVEnyFA6/kYb+XjCR3R+HQy8LXU02hbIDfunj\nf2z5VwEA9+Y9N6r9jCaOXwXgYaWUGykL4TGt9bNKqd0AHlVKfQvAFgAPjmqPFhYWZxyjWdXfDmDe\nCf5+ECl/38LC4kOG9BKS6yEkIikTxe2VvGPaxU1umQUW7KMW17llKxy5qEya6Ye3UIvhgmLZqqm4\njMJviJKbUVksw1xuN5nAE6dNEboEY5bXLFS2/o3VYtziCz/lyBW90ghOZpNp7vPIJZYs3jNgkL4X\nSxpc6aw11tgx44UqOEBmsIu1uPYZWYLZebTeMjAoQ0C8+3VSsQw8o/U4N8zNXggu1pabRxJN3vd4\nmEz/mokyEzOXnZ/dDW87ctQl3ae+Hjq2idNaha46Z4kjV+XKjD+OS8+ZMaLuvSChg8Zf6Lq71cgu\nwf79mx156tRzhS4Kuj+Kc84XuiODqRZj0aR8JkaCzdW3sMhA2AffwiIDkV5TX2XD7U9x3OmYbDvl\nco2cGpBbQFlQSpiskhNv3LzFbJzJjUbf49Rx7iLjt48Vr8DgkXOzbfBuvAsvvEFuI0Ftom689Qqh\n+u3vX3Dkc2ql6clpqD2KreQbpn4ha8PVb3DM+eLkjkRYNKAlKk3AkirKt4obnXQ14/vjpnkkYRQV\nsYw5n0+eqyQb6/FQNEAn5TYSYZpXEtJdGGqlvI+Zky/HhwlDSkZbNu/5hSOfN+0vhO6pvd8kXe1H\nHfnp5/9DjAuFiITGF5LXfeqUlOkfCclM0ZFg3/gWFhkI++BbWGQg7INvYZGBOAP9hVO/Nco78yRj\npB+o4B1h3Dhj3Mjb4IfqOtnP3UlpBeiLjJ/i+PUE9wJHPNr3c6EaW0s870cHZZvsoQj5hUk2X4/H\nCIGxMF3AI7MXo8xNjrA22XXnSlKHQdaeShwMAMVCeLwlUxkjMwGAblZhmZMwTiovmGOb9/rk+eVr\nCHv3yGrLx5/5X3yY0B0l8o29A+8IXWlWnSPf99KfC92E4gvpe33kx0+cIrMEx5Rf4si7trwldHu3\nvw4ACA+ZYcQTw77xLSwyEPbBt7DIQJwBU//E4Nxox4fiRviOluEfJUzWk/ymMS8g6dooVC7UnXig\nuW/Gy6aOY0qnfX/6W98Xmt9/8x5HHlwvM+YOHKOsu6Jcyl5MKjmPGDO/lWGm83MSZnPcskfyAo4t\np8y9PCWzC0Nsf9nMlehsl2XVmvHqRRNyGwEXmfRulsUXNUKTfrb9MSUf7urNQVbctLTwM0KnSuic\nbtzxmtAd2LXfkVeUUzhvQ+ePxLjObnJ59zY1CN3cmbMBAN4smfU6Euwb38IiA2EffAuLDIR98C0s\nMhBnjY/P/XqNmKFj4Tzm1vc2y750RTU3nmQPPBWX/94tMMadxK9P9LNR5Fu73ZJAItlOrbFdBVVC\nd/PXv+HIu69eKXRDLLU1FqV5xCLSf+Ypth6vQYDJ020ZyWV3RJ7T+oNUxVbol9uYX0FkpG8epXWI\nmLGW4WGhuAKj0tDnZjz1cVYl6MsW4xQ75h8++At82LD5EIUcmztoHaVmoUxB39tKBBlZkw8J3XkX\nEGFnZzsRbCSbZYXpJbcQkfXzT8gU5tjeVF+KUJ9B/DoC7BvfwiIDYR98C4sMxFlj6nOYmXrc9FeK\ndEU118pxyUYa56odcfs8FOcyWkshyTLaXLL9tXJTuMkl2kJLE9hVMoY+GC2deOvjf37yYaG55Sri\nTe9kKXgVZcVinC+Lfq91WJrwLRGqzupmIbb+sNEWirFt9Eel7qWDVPUY4VmCXpl1N8T4+BNGH66Y\npqq7ogCdR5cRmuyP8PZXI2Vonn7sbn7VkadXLxS6N3ZTS+rCfOm6xVjb86mVZN53dLeIcS+9QyG8\npF+6bu0H1zhy7ZirHDk4KHkpX3r2EUf29MiQ98ovp1po/f5pyfs/Euwb38IiA2EffAuLDMQZMPXf\nNfXM35yRV9MVo5OGMBWleclJCAK5cnuabV+Jwzb26yIa6p6eDUJVUERZfS7XSU6du2JkHZjZbtQD\nPf4KZRF++eNXOnJftyR1aOzocOSyXBlRCLGIRRaLNuR7DAJsTeO6DJMyxjvkMh7AgJEpybP64sa1\n6IuRG5DjZ7ThhksQj5vE3O8PxhTR1bGN9s3Od1ePpOge6CNii3CRpAA/fwpRrrs8Mrvw2e20Cv/2\nwIuOHA/Kgqa/uf5eR/7JY18SuiwXFW41rqOIUK9BthFxE7fj5ddJzr3i8jkAALdHuqcjwb7xLSwy\nEPbBt7DIQNgH38IiA3EGw3mmD86r3YwQm3AL+ffk71Ygd9II4wBlOtQjbIOjsEjyn8sqPLMi74NF\nOELnw58l515VQe3BVFweZ3EeObklLkYOOiBDZa2M5LKmQIaGChJ0bL1hClu2atlqq9pDlWARI3Ov\nm5FtcrfbrKiMxEfmgd/ftsaR/exWjSl5LJPKqd/LQJ/Mims8Qp/r6q5zZJ+rQ4wryqH2aMEe6eMr\nFx13SUWe0M2bQb72VDfx4Lcckts/dph898uukH1oXnh5vSPPmEnZehNzLxbjLphN60PPbZS9BdoH\nVgEA4km5LjASRv3GH26VvUUp9ezw5wlKqXVKqQal1G+VOil1jYWFxVmEP8bU/yKAPezzdwHcq7We\nDKAHwJ0n/JaFhcVZh1GZ+kqpGgBXA/gXAH+rUuwPKwDcPjzkYQBfB/Czk29Jg0xwj6GhjDaFkxEy\n8N8qIxTHCCpOxp2nwcwwbRIXkCmn1Hi8N/BsuveWjRZkfHm5HulWDDEz3eOWblEJK8xpaaWQ1dFe\nycXG22GV5shOukHWDivGpx+X74mtvXTNspScR1kxuQ+cV29gSJr2v/jdLxz5+ef/W+jmzDjHkfNz\nKQMyFjfcLNYtN8tfIlRzZ82m6Q9SJ/eBQVnMEuyjeXldRpYjC28OBmQn5+5O2ubM2WTC+xPSffJ7\nKczWtl+6TMfeISKOmhuJR7K18W0xzuO+2ZG3bZUkHVcv/TUAIMubi9FgtG/8fwfwJdCTVgKgV2un\n+0QTgOoTfdHCwuLswykffKXUNQDatdabTjV2hO/fpZTaqJTa2NHReeovWFhYnHaM5o1/PoDrlFKN\nAB5FysT/EYBCpZyeTzUAmk/0Za31/VrrOq11XVlZ6YmGWFhYpBmn9PG11ncDuBsAlFLLAfy91vpP\nlFKPA7gZqR+DTwF46lTb6onW4/HDqVTUlWMeEzqvl3yiWPcrUle81JEjjJTC75ehFQkZ1lj17P2O\nfMk1f0MKdTpSGd5/ldmlF1KV1po3nhM6Xgnn88l9hdn5ycsmv/uiCumJBQdoHaKrT/r/PazCL8pI\nP/xeua8J2USq4TZCjoPsezFFawYJLf3zCZMpBJafZVQhBmj95b6f/8CRP3H7LWJckabvtXdLbv6e\nYxT2GldLrdmzfXJfFRNo/mtWS876PJYWHTP6DJaWUPito4NISyZMmCDGrd/9B0eeVHmO0P3TP/+L\nIx9j7bWTTfJcrd1JPRo6D8uQ42tbU8/MQOgDDuedAF9GaqGvASmf/8H3sS0LC4s04o9K4NFarwGw\nZlg+CGDRycZbWFicnUhr5l6hbxxWjr8PAOCFrF7q6zniyPnFy4WO53r5fDxcIXneB4NUZZaTVyN0\nl1zzd3/8hNMOMtNLC8ik3HZYkjqUsfBbKCIzuHiFYlkuq9QyePU4vb0nKW+DAvZRKz8bJ2ebYLx6\n/XFpAgfjdNWSjMwDPllN+Ok/p7BUNCwXf3/90Fcd+fIrVzhybp68d9paaXkp4Je6MRMo+3IoRObx\nzoZVYtzUSeRyzDx3jtB1sGrIgqIiofPnkLu5djtt8419r4px+Vl0bHsaZdWn10sXw1NKbbMKxhuh\nuR00fz0kw6cNG1IttCJpMPUtLCw+pLAPvoVFBiKtpr6CD179rgkuzbr8IlZ4YkwriS6m46ux0uzK\nyZOfz06Qvbx0yQqhKWSm7je+TB1Vr5wpMwj3ttPKb9zg0vPn0kp7nBFlDIUl4QWj3EPcIMdoDBHx\nB1uQF98BgKJsMtuTxjskJ0Cr5D2DNMc5YyVnXX09kY9MmjFP6JasuM2R3azIatzkaWLc975xkyNX\nlMpt9A5SlnlCMfKNbEnz/eIbFJT67Me/JnRZATq2tjZZfOOPHHPkoiw6zuxaSdvet5vSYG676mah\nS4DOya//QNmL9Uckf15JIWUhzl8kXZonV60BAISCEYwG9o1vYZGBsA++hUUGwj74FhYZiLT6+APx\nQazpWQcAuKhYkgXG8TtHjgzKjLzcHMaff3r5Lz5wLLxQtsmaV3eRIyeDskLse1/9giMPsOw5j5Ht\ntv8YrQUoSN+9kLWubmfhN5/RTtudJGVvSJJ5smI3JNmHqlwZXupmFYShhAznATT/3FzKysz3ynns\naqNQZeN+qQsFKXxVwchHtm6UobIv3cP6HaTSTBw07CaSi//4GbWuLimsFOOCRbRu8vMHvy10s+fR\nmsLGva8L3TUX/Ykj749SSBoNO8S4tdtoLaPPJzMljzZSdZ6bVZjGlQzN+RPUr6HZL++d2VcsBgC8\n9NpOjAb2jW9hkYGwD76FRQYiraZ+JHwM9XvvAQCUzrxN6A7tIVPxmqWyCONsx+fvfkh8bm4inreZ\nc5YJ3UA/hSbHzrlA6BobyVRUnHwjIVPmrpxO4Z9NHbJYIx4iE3AwSKZ4a1BmOVYWk3mcMHjwkixu\nNxSifTckpIkaZdl6XqO9Fi/oqfWx+Xsl8YkblG3Z2doodD3d1NG3t4vOzfTZF4pxG19/lLbnlWG6\nlR8nDvvfP03nZtcmabL/+AcUPi3IkoU+LhYyzcuWLsJ+NxWUrZj7OdrXb74qxl11xccdOTwgOf3H\nV9E2X3iMCrKqxsl91Tftom0k5DUrqkyFuRNR0+U6Mewb38IiA2EffAuLDIR98C0sMhBp9fGTCCCs\npwAA9vWNEboORamKCfyZ0Hm4O5PWcJ70rR95/rAjP/o/RIoQj0o/e6CP/On+zmNC5/WxPnJGy+ie\nIOl0jMJhygjFRRnXfa1H+nRvMk74oSGSY0k5rruffGsdk2m/Lpan6/XRu2HIWGuIs7WBXIOkY2IZ\npU9rdn6yA5LYs7e7gcZp+R5yMyLRggIi0dy5bY0Yl5fPKvAMEs1H/+tuR66eQCmvs+ctF+P+5xm6\nTv29kgzzs3fQnGcWzBK6vmO0jvLkdlpP8OXKHnaJJJF5FhfJtOXXN7/jyJ/6O1on2L51nRhXW0lh\nRb7+AQDPvPgGAEnEejLYN76FRQbCPvgWFhmItJr6iWgIA0e2AgBuOP8fhO63A0R+8Piea4Tupqm/\nd2Sfe3S84e8V3/kZZYVt3SKJhZuONjqyR5FJNWi0mfa6WTjMMKObm9sduaZamnzrd1BG3pQaynaL\na2li+1gr7ByPJGRYMoWF+g4cpTkpSYDR2kfZeuPLZVVjSztxx7tE2235noi5aN+hmKwKy4nS9rnh\n/PRaeU6H2Pd0Uh5LIJtM7P5+mlPcCFn195DZG8iSWZ9J5o4cO7TbkTubZastfxbta+q5Mqv0d89Q\n2LWmar3QZZfQeT1nJlVb1hq8epv3USius2230A010/G8vXWLIwd7ZSXgzo37HHnh+fOFLmf4FnQZ\nZCkjwb7xLSwyEPbBt7DIQKTV1Hd7XMgvSWVWvdxyr9CFNa1YXjv+b4Xufzbf6sifWSippt8LfvjA\na46898ARoevvJvMqv0CuQAfayWwcZPTUbi0LZZKsBZXHI09xXh6ZovG4/N76PjKKJ1SSzqjRgYuF\nNnxuuf0itno/bwwVtuztkll3VeXkMh1ulSvEvKOtj5nzkags5inJJjKI6cUyY45nG8bYcQ7F5Iq5\nZuNcRqsw8O+FyZ1SHhlBiLMCofCQLGzxsmhDJErbGOiXrbDcrNtvLCqzHN2sUKkhr0Lo/vEbtY5c\nHidK7VfeeFOMi0bo3A2E5Dm48eOfcOTv/fR7jpwVk+fDH6Fz3LXPcHeSqWhGQkvXciTYN76FRQbC\nPvgWFhkI++BbWGQg0urjD4UT2Fmf8q1CQUmm4C2mUMWm/NlCN6mEKr80Cw4pnKwVtsRFV3zekZcu\nu9SRfW7pE4VCLOuuT2bk5WRRZVkkQrqEklla2YzIsberSeii7HuIG/tm/um+XgqxjUnItQDNMv7c\nbukHso7UqMil+RYavPqd/eRzFtbIKrCBEPnCZYw0M56QfnyBh51/o8JviIWV1reNzPXO1y/MMJ2L\n+eduN8lmNWGC+fja4PePjcA96Tbai/NW3n29snqucT+RaBRXTRa6v/4skWj85AdfdORJE5eKcY//\n8luOHBkyMhRDtO/aUjqnK2/8tBj38+/8wpGHBuSaTU1pKiPW55FrViNhVA/+cMPMAQAJAHGtdZ1S\nqhjAbwHUAmgEcKvWumekbVhYWJw9+GNM/Yu11nO11nXDn78CYJXWegqAVcOfLSwsPgR4P6b+9QCW\nD8sPI9VT78sn+0JuwI/zJ08FALz49j6hC2RTJtw5WS8I3QWLqc2S0tJE4/jpI2sd+ZVX1gjdnPlk\nem1450VHLimRWWvtLdSOye8yfhfZ2VKsy66GNC95N1sX5HyVYp+NTLjubjKYXtpArbHGBGQ61rJa\nyupzJeU2PHzOLFTmVXIeNYUUzvN1yjZcQz4aG2ahQ6/RWVgz3r6BqAxRvdPGtsn2nYAc5zqpu8bO\nK8vq00b41MXmYYY+eWjS7WLuQkK6WdpFX0xEpX/Q2kLFWV2GGxDIpvvncBPx7LmzpZsYyyZ3pycp\nC4l2HaEQb28/PQdvvCrJQmZfRW7G26/XS131dACAxzO6Ts2jfeNrAC8ppTYppe4a/luF1vpdpsRW\nABUn/qqFhcXZhtG+8S/QWjcrpcoBvKyU2suVWmutlDLX0wAAwz8UdwFASXnWiYZYWFikGaN642ut\nm4f/bwfwJFLtsduUUlUAMPx/+wjfvV9rXae1rssr8J9oiIWFRZqhtD7hi5oGKJUDwKW1HhiWXwZw\nD4BLAHRprb+jlPoKgGKt9ZdOtq2aSbn689+bCwBIRGQ67Ky6Ox05eugloZuzkLjopxbf6Mif+/Ij\nYlw8Tr5eyOCKHwpSKm77MSJ/6O5rk5Nk6bbK8IsL8ikFNsJSMM1z6PXSD1wiKXWakXuYLY1jLGxX\nlEOhs4F++Zs6yMg95pQWCt3sakqjTbCqPq+R2htj/j/n2AeAwy3kx/oCdCwhI9zWyc7x5h4ZXtLM\n2Xax0Bm/RiZcxpoKJyDhctKYL/frTdISsT2+3mKQoPDU6rix/Ww/XYuEESjOzqLzXV41zpHvufdO\nMW7f3icceVKerKzb20ZVlGVzaS2qbb/kyI+w+6DCP1Po2o6lxt533xNoau44JV3NaEz9CgBPDp9Q\nD4Bfa61fUEptAPCYUupOAIcB3HqSbVhYWJxFOOWDr7U+CGDOCf7ehdRb38LC4kOGtGbuebxZqCxL\nhR02vbFZ6KL4tSNff/tfCt2kOHHTf/oLP3FkI/FNmJf9PZLrrq+LzCme6ZXtl+sOQcaXF4vLsE5k\nkEJUpSVEeBFJytBNB6t2KyqS4cJonOYYj0p+tATLOsupJLeif0CGvLysHfiWDukGNPbTHBeUUUtx\nnxE6LMgj87VnUM6/iLW8amJZfOubWsS4uJtl8ml5K2nQxTGrECX4vAwTnlnV3EVSSoaskiw05zaq\nIXnYzsWyHLXhgg3xlmUGsWNY03UyM/76wnT+XSz8OLlcmvOqnRa2n9//faGrrVrsyNtfetCRp81Y\nJMateYNIOjonyOuZHCZ4icVOdq4JNlffwiIDYR98C4sMhH3wLSwyEKcM532QmFhbqO/5WqrvWVPx\npUJXEvilI/d3FwhdX4QnwhQAAA8nSURBVEG1I+/7HbGc9Aalbzo0QP55dkCGng43HnRkH0vP5GE5\nAIiPVM4FgPuggqXGL0OTnPVFVOMBSLCeZx639N0HQ+Sfe1wjNxMY4uSeBuOKi83Ry1JbEwavPg+d\nxY0+bHGWVusC+abxpNwXy0w+LqQJxpGfZCEwv9FjL8J8a5OBh4ftXC7y3c19nSyEx/fNU8yUe+R3\nnrk910maOfDteNiSmT9P3hM//NkdjjxuzpVC9/APv+bIXa20FhV1yzWgigp6DmaPXS504xak1oT+\n6pP/ivo9h08ZzrNvfAuLDIR98C0sMhBpDefllo7HRXc8AADYX/+80E2Y9M+O3NEs2xTf+y2qjorE\nqLIpZhAr6hh9PtoqOcldihE3Rslk1XGTKJOb86YZTeDmYNBoe8xDPj6D9z40SK5FlhFKVEkye6Ms\nwy1mVL4FAkSwkTSq84aY65IQmXCyPTWSjMzTrHhkLggPxZn8/i5WrWeax5xEkydAmiFS8T3ThGfu\ngqymk/Pg5vZx1ZDcvOcTMbLz+DxcRtmJ5joju5C7AQGWbZnll+fbpegefvm33xS60kr6nu6hMPGc\n+YvFuAI2j0efeEzoLlCpjL+wkbE6Euwb38IiA2EffAuLDERaTf3OjsN44D8/CwA47+qbhO5gK5lG\nBYPSBG5v7nJk5WLcaN3SxE6wFXRtED4ko2TahQeoVVXCMFH9PrYibxAy8Iw/v4fmaP56cjIM3rEW\nANxstT5sdDaNs5V3TnJh0OohyjL+jitYYS27PDmMI9DYlxZkIQaRCMsujDI3w+s1+ezJDeCceACg\nXaRTzBxOHrciT5+TRjZdkmX/cX/huFV2dixaSfeMm/dJ5t4ct3LPogYJg+NQKR5dkN+LcRdEM37/\nQTmPz33yaUf+4dduF7rNu6itWOXUMoyEqnPHO/LfTPuC0L30UqrjbiI6uiidfeNbWGQg7INvYZGB\nsA++hUUGIq0+vi+nCLULU2X7ew/+ROgi3eRLtg3IUFxlFa0H1O+iFsN9/QbxoY8OJ2Zk5IGFx9yM\nlCJhhPMirBotYWS08VAODy+Zfjb3JQ0VFCfiMFpoe7y0Px7C00ZFGPdxYwaPvIuFtgaDjBxDy994\nt4ftKy79Vjfbhptl0/GKu+NghD41e6dodh61EYpzs9BhLGmQaIKtG4gQ28jvK/Na8Gvm5gSp5jJB\nkp1vQ8kzBWMJY22A7S7JiUl9co5eFmYMu2Vm6sS6eY68czORvZYukOsmr79MFa3zZ5cLXVZJ6j5w\neayPb2FhMQLsg29hkYFIq6mPUD/i21Kc9tMX1glVw8AeR54/7xtC980f3OPIWVlUNJKbLQs+erop\n7GdS4otiEGYNub3mKSDzKjYo3YVAgLjouflntsLmvH1ujzQ9h4bYPIzQEC9g8bD21GbYT5TvGGEp\nQXrBq2iMAhgtMv5Gx4NnctELHjzDC+DHlmQhNhdM7j8eEjR7JtC84ox1xRwmi3bMPgOM059lHprH\nwluRaZOPj23DZfQWSDD3p6KMyFM6OzvFuBC77vF8mdV3xQQimulPUnvtrk5BZo38LArnrV61X+im\nzyofnusHy6tvYWHxfwj2wbewyEDYB9/CIgORVh8/mgSaB1O/NeEWmVLbd5D82N/916+FTsdZiC3G\nfF+D5CLGSDTcZoUV+5hkoadoSPrPXpaKe5z/zHzE6BB973heffKzsgJyHYKPzcmWvt4gJ73kTrOx\nfe3i6bzGbzdLaU6ysJRJLskXOpTL2D7zWwW3vVH5FmcpzD6v0VePnWN+Po5bJ2DzSiZkaFKx9QUX\nm8fx5DG8SlDqYgnWVv1kVXbMj9fH+f/Mb3aZayU0dnCIp1LLGfJp3fvNh4Xu1qeoN6SX3WM6LPc1\ncyb5+MEeGcre0LAdABAyw9gjwL7xLSwyEPbBt7DIQKSXiCPPh/OW1wAABg/LNr9Trj3HkTetk+ba\nfkYu4PGReTw0NCjGcbMxZnDM8VBRVjYRH/T29opxPPPL55enJymy5GhcXl6uGBcM0nwj0qMR8xgc\nlPMfKRvQDBdqXp1mVrsxczwJCpV5Xcax8FbTRlYfd4WEx2Fk7gUCrLVUXB6oyHZjIUZtEmAwk1sf\n9x5ibgZTmWa6zNYzTHjFswZHhhKuhDxO7kLy9mipndNWQ0G6nmZVZixG905Xhwz1Pf7Kq448v5I4\nJQ+HZB+bu79KYe2ekDyPs2eMSe0nPHJolmNUb3ylVKFS6ndKqb1KqT1KqaVKqWKl1MtKqfrh/4tO\nvSULC4uzAaM19X8E4AWt9XSk2mntAfAVAKu01lMArBr+bGFh8SHAKU19pVQBgGUA7gAArXUUQFQp\ndT2A5cPDHgawBsCXT7atgWAP1rz5OADg+lv+VOh0hDL5enrvEzo3zxBjLYKy/DJLyZ9PJndbm+yC\ny1dVuWlortxzk9XjlmZdkmWZ+Xy0Wj9otKDiK8uG1Sj2bZJXqBFWrs2VcKkzXBpmBns9LOvONLG5\neW9kqiUZX56HZTaaK9XCvE9Ipahz0TyCYJjpcaZzm8b4iVmik8b5wElW/DklOD/fSbMgiLlCJm9f\nFu8YPCTJWfhxmua9BB13zCjOausmjskffPchRx4My2ublUetzT57u6To3pVI7du9QWb0nXo2I2MC\ngA4A/62U2qKUemC4XXaF1vrdZmqtSHXVtbCw+BBgNA++B8B8AD/TWs8DMAjDrNepn9kTrp0ope5S\nSm1USm0MBU9S1mlhYZE2jObBbwLQpLVeN/z5d0j9ELQppaoAYPj/9hN9WWt9v9a6Tmtdl51rFmFY\nWFicCZzSx9datyqljiqlpmmt9wG4BMDu4X+fAvCd4f+fOtW2qstm4duf2wgA+PunLxO6hdN/48gu\n1Agdb2HMkZ9XKD4HGYmGkcCFBAu/8dCKmfmWEBVh0g/kbqw6Cf++zzsyYaePcenHY9KHk5z+5Dzy\n6jBActMrIxTH1wl4ayzu76d0LHvR6Deem0Uh0+oSInw4cKxZjBtfxqoVjVtp2vgxjrx6C1VemkQZ\nnOreZbbCEm24RrYWK3MprNjaHxS62TU0/12tVL3pNtYaeMjUXFPh4Uiz9RZr1yDO/ckqGc3sv42b\naL1o1qzpjnzTDReIcbuD1DeiwQgJVuSk5uU5bp3kxBhtHP8LAB5RSvkAHATwaaSshceUUncCOAzg\n1lFuy8LC4gxjVA++1norgLoTqC75YKdjYWGRDqQ1c6+vtwPPPHU/ACB3jywm2HjgYkfm7YYAIC8v\nz5H7WaZdTp7kLnOxLCozuyucYCb3EI3jxB4AEAyRORU2TP3cXDJtI+ETF6EAMqzjNrLuopwQxJgj\nNw95uDBpmOKcE//6S88TuldeW+vI111EXG67m2WG4o6GQ478F5fJVk2HjlEo9NW9h5hGmpHd3eRa\nLZo5Qehe2UDciBdMJd3ag41iHOc8PC6Ypzg3P53HSFjeOy0shGeG83a3kHnPswaTRmESvy5mmy+f\nl1yJWES6Zz7fiV0E857gl9oMi25a/4Yjf+dvrnfkg9sPiXG1s8Y58ow58nxvOTDcaVmNbh3N5upb\nWGQg7INvYZGBsA++hUUGIq0+fjwygN4DqwAANXW3Cd0TPyaSQbfRLG7MGPJtBnrIV40ZRBzCLza4\n0SO95Lcl3ORkZefmiHHBfvLxPUaLa55e6g+QzqC2F22s/UYrbF5RuGzRfKF7+Y23HZlXepnwZ9Fx\nPrf6balkqafdUfKRXYNdYhivznty9Qahmzap0pF5tZ9KyAq8Sy6gtYEnX18rdBcx0oi36xsd+Yo5\nk8W4Zzfvc+Rct1xTOWcC+bFuRg66tlGGFXmKdMJo5c1753lZarI2SCnDzHd3mZWM4GtHcvsFOWzd\nh6V0R4wQtEwdNsKzLKw7edb5jtwXkdelNpeSY4N9cs2mryO1LpaIGeWgI8C+8S0sMhD2wbewyECo\n4/nLTuPOlOpAKtmnFEDnKYafbpwNcwDsPEzYeUj8sfMYr7Ueudf2MNL64Ds7VWqj1vpECUEZNQc7\nDzuPMzUPa+pbWGQg7INvYZGBOFMP/v1naL8cZ8McADsPE3YeEqdlHmfEx7ewsDizsKa+hUUGIq0P\nvlLqCqXUPqVUg1Iqbay8SqmHlFLtSqmd7G9ppwdXSo1VSq1WSu1WSu1SSn3xTMxFKRVQSq1XSm0b\nnsc3hv8+QSm1bvj6/HaYf+G0QynlHuZzfPZMzUMp1aiU2qGU2qqU2jj8tzNxj6SFyj5tD75K5U7e\nB+BKADMBfEwpNTNNu/8FgCuMv50JevA4gL/TWs8EsATA54fPQbrnEgGwQms9B8BcAFcopZYA+C6A\ne7XWkwH0ALjzNM/jXXwRKcr2d3Gm5nGx1nouC5+diXskPVT2Wuu0/AOwFMCL7PPdAO5O4/5rAexk\nn/cBqBqWqwDsS9dc2ByeAnDZmZwLgGwAmwEsRipRxHOi63Ua918zfDOvAPAsUpzaZ2IejQBKjb+l\n9boAKABwCMNrb6dzHuk09asBHGWfm4b/dqZwRunBlVK1AOYBWHcm5jJsXm9FiiT1ZQAHAPRq7VTv\npOv6/DuAL4F6kpWcoXloAC8ppTYppe4a/lu6r0vaqOzt4h5OTg9+OqCUygXwewB/rbXuPxNz0Von\ntNZzkXrjLgIw/RRf+cChlLoGQLvWelO6930CXKC1no+UK/p5pdQyrkzTdXlfVPZ/DNL54DcDGMs+\n1wz/7UxhVPTgHzSUUl6kHvpHtNZPnMm5AIDWuhfAaqRM6kKl1Ls1qem4PucDuE4p1QjgUaTM/R+d\ngXlAa908/H87gCeR+jFM93V5X1T2fwzS+eBvADBleMXWB+A2AE+ncf8mnkaKFhwYJT34+4VKcSw/\nCGCP1vqHZ2ouSqkypVThsJyF1DrDHqR+AG5O1zy01ndrrWu01rVI3Q+vaq3/JN3zUErlKKXy3pUB\nXA5gJ9J8XbTWrQCOKqWmDf/pXSr7D34ep3vRxFikuArAfqT8yX9K435/A6AFQAypX9U7kfIlVwGo\nB/AKgOI0zOMCpMy07QC2Dv+7Kt1zAXAugC3D89gJ4J+H/z4RwHoADQAeB+BP4zVaDuDZMzGP4f1t\nG/6369178wzdI3MBbBy+Nn8AUHQ65mEz9ywsMhB2cc/CIgNhH3wLiwyEffAtLDIQ9sG3sMhA2Aff\nwiIDYR98C4sMhH3wLSwyEPbBt7DIQPx/aK6TYGcVO/AAAAAASUVORK5CYII=\n",
      "text/plain": [
       "<matplotlib.figure.Figure at 0x11c5b2240>"
=======
      "image/png": "iVBORw0KGgoAAAANSUhEUgAAAP4AAAD8CAYAAABXXhlaAAAABHNCSVQICAgIfAhkiAAAAAlwSFlz\nAAALEgAACxIB0t1+/AAAADl0RVh0U29mdHdhcmUAbWF0cGxvdGxpYiB2ZXJzaW9uIDIuMS4wLCBo\ndHRwOi8vbWF0cGxvdGxpYi5vcmcvpW3flQAAIABJREFUeJztfXeYnNV1/nunb+9Nu5JWvSCh3hAI\nIYrpiGZj4oKNQxI7jlNtk/wc27jELcYl2AkBYpxgY7DBlNCFRBWo97YraSWttL3Pzk6/vz9m+M45\nV1ppKRqJzH2fR4/O7Lnzffdr851zzznvUVprWFhYZBdcZ3oCFhYWmYd98C0sshD2wbewyELYB9/C\nIgthH3wLiyyEffAtLLIQ9sG3sMhCvK8HXyl1uVJqr1KqUSn11Q9qUhYWFqcX6r0m8Cil3AD2AbgU\nQDOA9QA+rrXe9cFNz8LC4nTA8z6+uxBAo9b6AAAopR4GcB2AYR/84uJ8XT2qFACQDEWFLun306S8\n8nu93YOOXFKW68h5/kIxrvnwMUeOJ+U28gpp+y7QDpQ7LMaFB+iHMK/YLXSuRI4jBwcHHNmfkyPG\nKWZHFebnC11wgI4lqWJC53HRHPPz6HsDQ71iXH4u6VxKbj8caaftuUnn8eRCgo4zEpbXIpFMOLJi\nBxOLR8Q4Xw6d5GhInqtonLaZE4g7cjAaF+NycwI0D7l58HeSBm2vsKBajPO66Dy64Re6ziCdj2g4\nRPvN9YlxMXbDlBQUC104Rt8bGhoUuoqiWpp/nK6T1yOviwLdZ5GEvOeUpnPnZzf/UETeHwE/nauh\n6JDQ5fpSz1VTUzM6O7sVToH38+DXAjjCPjcDWHSyL1SPKsX9D/09AGBw81GhC9ePc+TiUdIKeerh\n9Y58wydnO/KSCZeLcf/w+f/nyF0RuY1FF01y5ACqHNlXsleM2/cy3ZgLVhYIXW7vTEd+fdMaRx43\ndbYY58ulm+iSZecL3VuvvOXI/d4WoavOnUjznb/EkV/Z8aQYt3TuBY6c71kqdLub/s2Ry/NJV1E+\nR4xLsgfpQMMhoevvDzqyx0s3W2vnfjGubhbdwEc2yxv9WBtd36lTuxz57SNtYtycWdMcuWG/vGax\nMPvRcTU58keWfUWMq8zrcOQS11ihu/81Oh9H9m5x5LlzxohxR7vo4b5pxXVC13B0syNv2b5O6D5/\n9bcd+WD3E45cVSyvu0fR+3D/wB6h88ZKHXl8Cd2b2w+0i3HTJk525F3NO4Vudt0tAID586/CSPB+\nfPwT/aoc5zcope5QSm1QSm3o7Qme4CsWFhaZxvvx8ZcA+IbW+iPpz3cCgNb6X4b7zoRp1fr7D3wK\nADBv+jShW/3H3Y58zceuEbqfPXifIxeEyay+4k9vEeMqmenZ8Mo2oXvsxWcc+VOf/4QjP/i9P4px\n486jX9/zZi0QuicffNWRL7zoSkfuDUmT7GAX23ckIXQzpsxi8jlCF+qht+FTb7/kyLNnl4txq1fT\nG+jbX/lvoUui2ZFdmCo0HIcP7iNNQvpWrjLahu6vd+QiaQGjbXCVI0f65Ru/cQ/bZgHZ8C0Hu8S4\nYILeaol86XLcsJLe7Lu2vunIDa1viHH/sPKbjvz1h74sdIO9/TTHQXrxlI+pEuOWTKfPWxsahO6m\nlQsdeZRntNDtGaDzOKfgk44cU/L+Oxp725Gjg+OFLumm8z0pn97Ybi0N8qiic9UefF7oagtS1u+C\n+Z/Fhg17Tmnqv583/noAk5RS45RSPgC3AHjyFN+xsLA4C/CefXytdVwp9ZcAngfgBvCA1nrnKb5m\nYWFxFuD9LO5Ba/0MgGdOOdDCwuKswnv28d8LJk8do3/xQGpVP7dQrr5OnlHmyK8/+Xuh6/LQamZt\nLfmB+zfK1ei583ocOb9IrmI/c38jfUiQTzVqXr0YlxwgR1blydBNFZvzS8+udeQJyyvFuBXLVzry\n7rc2CF3jTgqEnLNwitC9vJrWEM5fTKv6k+pl2HLnwcOOXJ0nfU5fLq2BzJpLuvZ2GRLsSdLv9bnV\nPxM6rclFjCnyrZtanhPjUERRiMm5cl0mCTru1c9T6DNWeUCM27OTrovySc+zIG+xI1eMpnO/ff9a\nMS44cNCRy/wyTOfLo/WFysI6R25JyvDjmJI8Rz6wu1HozvsIHafPJddzxvgoOpAfoAhIy4CMFoWS\nFE6dWTxJ6MKaQnNuRes5nfHXxbhgP82xvrRO6Nw6tc2FC27Bhg07T6uPb2Fh8SGFffAtLLIQGTX1\nJ00fo3/2UCpE07pbJoMcCZPp1XNIrhEeaSQz9fbbPkWK6m4xbsZ4MoXq8v5c6AbwgCM/9SAlzhzt\nk+GleXNmOHJD62tCd/0yCte0NVPCx5MvyqSOohJKApq/rEboju7NY59CQjdjFpmNBxpY6CYmw0vT\n6i9y5LhXmvCHD2x15EVLyRx89mWZUHnV0vmOrIplaMvtpnvCFSX3qaFZmsfnTyBTvC8iw1fNA+SG\njS8nN2Bn624xbkbBdEfOySsRum/8/C5HDsXI7Rpqlyl+Uy+iUOIXP/ILofvCv95M46opjDb3ksVi\nXGMT3XOjimRm4PPPP+vISxbdKnQVE8jtGuujhK9oTLpxbUG6R4pKzKxBkisL6h25xCXv7z1tmxx5\nXu3tQnc0ngr/XrnoZ9i6sdma+hYWFsfDPvgWFlkI++BbWGQhMurjT500Vt/3k5SP//Qbq4Xu/33t\ni4787OMyjFFUTT7RU49RmKiiRuaQ/sM/fdaR97ZsFLrZNX/myAlWW/Sdb8lQlreeiktKumWoLFFE\nPtzcOeSbLjh3oRh337//ypFLS+T53byLKgjnL5Wpmx+5iEKQq9dQOuyMmWIYejHKkWtrZCHRa6+T\nw9g/tMORL1go05uPHKP1i8YWuYZQUkHb4L5qgUtWhHkD9Hna5CuErjBJBTxeRfNVbul+3v8A+c+V\ns+S5qiijtQdePReOyJqP7k5aT3CH5wpdV4DOd42XQsZ9vcfEuGgvpUvna+mDJ8pZOnKgT+iuu+BG\nmkcfrcu0tr8pxq3fTHOuHievWamitO7LFn7ckWNaPgc5isKADW3bha66KhUuvHD+3di84Yj18S0s\nLI6HffAtLLIQGTX1Z8+ZpF945acAgP5dMiQTKqaMqB2bpYkTCFCtfj/oe3tf3SHGlU2k7KiWRhkq\n+8w/UXZdbTHVz+d5pGl4z08pHNTRLyvaFl54iSMP9r7syOEBMQyFbiJn8I+VygsXn+fIP/vXPwjd\n1/6eQpBvr/8PR5634EIxrqWZrtmTb78idH96472O/K8Pfc6Rk3kyFHflPHJVaoqlL7GtmczU7hDN\n/6PzPiHGbWl72pHHVE0VOo+ud+RYiNyW1ogMlR04Ribr4fWS0GR/mFyQSZPI7DdJKEoLKNtt115Z\nwx5ipeCl5RQu3LNOujcrVtI5Lq6Q9+bH5t7hyI+sf0joZo6ld2dLO90vRXlyjr3sJrls6neF7nfP\nfMORK6cTkYjPI+exsI5CkB2JMqE7cih1P9628n7s3t5iTX0LC4vjYR98C4ssREZN/fGTR+tv3fOl\n1Iceuao6FCaTLBaTZlJxFZF2HNxAmVJj5khzZ/YMMuX++PA+obv8yr9y5IaGux355pu/Lsat3fWg\nIyd0qdA1NrY6cihJ1lToiCzqmDFhmSNX1Mo5LppD7kJv/H6he+zXlIXnK6LCyYmzKsS4XW+SOeuu\nkuexpIgKejr2kal4wSXSpZk8iui74nq90PWHqSjl108TdZXbK12fqy/7a0dOKMnpt3vLvzvywsWX\nOfLqV+W+QvtolbyvWK6Y+0sp6/HAQSp6KaqoF+Pqa2nfsS5ZWNXYStlvl66gY96yQ7qJe1dT4VbZ\naEkq0sd4EqvHy3viU7d8xJF3vkYRpwVLZZFYqYsyQg+GZEZofy9FmTysSGdajSSCefB5yj69/SO/\nFLogUu7UsvlfxKYN+6ypb2FhcTzsg29hkYWwD76FRRYioz5+dU2p/tTtKX+vul5WYsXi5JvqkKRg\n9iYoFPfRv7zWkV/8ze/EuM989i8dublDhgTzc8gXa+kgGuQdx2Rl3XnnkA+eCEj/vHkv+ZI7d/2P\nI99x6w1i3CuvEzEE/JJAcv2bRLYxauwooVMF5I96+4mI45BBpVw1qsiRy4plCKx0An2ur6dKwPyw\nJOzs1rRuMDogSR2CYaKh1j7y6zv6D4pxOknkGBPKZJZjd4KqL9e+TXTSVyw+V4xrYbwW//uYpJ2e\nuYDO/wtvU2Xal/7kNjFuy04ismwLyvPdfJgyMVdcQtmF+SVFYtzd3/+pI5f4JPHJ+In0uaA8T+iS\nAcq6q4jT2kCXkvPw+ii8vMBIxTy4k87r3j007nM3/5UYl9C0bxfk9UwkUmHGRYu+jo0bD1of38LC\n4njYB9/CIgvxvsg23y20SiKSblk1FOwRukSSMpuObpchmdlzyKT89p9T1tOcK6W7oBQVlIyulKbc\nv93zY9JNp7Bc0iMLPh5bTVx0582WIZmmEIVdVl5ztSP/+1M/EuOm5lHhhtfgRu9sJV62WJ+0yK66\n9jZHfnYzuQQ5uZKbH6wdkzsuCz72bqVjS8TJjXvj1RfEuNlzKBsycI4k4hjqoP21JInvUPUZfckK\nKcMvkJCEI7mVdJwXLaZsvScNQpAplXR+JlXJUFlRgPbX2ULXKS9+WIzzMb689W9IPj4MkOvzLOut\nUOSTrbYWL6JwW3HdBKHrOkrkIToq3QB3LhUI7W8nMz2ckPfwFQso667U4O3bwHoN3HQzhYJ/+CsZ\nar7jNnJXf/mzl4Tu03+RygiNG/0ThoN941tYZCHsg29hkYWwD76FRRYioz5+MgYMtqR8kKGhTqHr\nS5LPNRCSPm0BI38cM5t8x4ll0jcFyHcyPZ1ZS8l/XLWFwifnTZU9/HLHEe/7xHGykuy1zRQ2+vdt\nP3fkv/pz6Yv9z/3fp3lo6YMvWU6+8Lb1rUK3p4F8ZqUpfTXmlhV+fV7ydxuMPm/LrqDefNvW0jm+\n7nLJe//o09RzT8cuE7rSURQ+nVNLt8ihfBnK6uijzy/tkiHHqwJEThIEdbO9asUMMc7bQ2sx5ZOk\n7/vT71J/hfJ88tX/7l9kGLc4j67h8mtXCt0f/pu2URKn++WNl7aKcVfcusKRQz0yBXtKLYU+z5ko\nU5+P9tG60kObf+PIVfmyGnJ8zUcd+fm3fih0K6+hSswEKB37tqskUUseaF3sqmtk38Wdu1Ip6kNh\no9f4MDjlG18p9YBSql0ptYP9rVQp9aJSqiH9f8nJtmFhYXF2YSSm/q8AXG787asAVmmtJwFYlf5s\nYWHxIcGIMveUUvUAntZaz0h/3gtguda6RSlVA2CN1nrKSTYBAKgoL9HXX5fihA8VSz57dydlIi2Z\nITflG0ehkdZWMoUqIV2ChcuJTCGR1y90LX2UJVdRQNt47FEZFpk7mUy5qjkyrNN5hHj8OgYpdDPQ\nLU3x+BD9nub5pKnffIQ4/cdMkCHHwnwiCHn5SQo9nbNImsdDHRQGdI2S1XlHD1CFX1Exq1ozTMDl\nLEOxuMioQjxMmXuTJy5y5G0vbxHjqsdQxl/9xTI8e24FuQ/aQ9lzbr1UjPvlQxRmnbMwIHSvvkzH\nMhAm12f8xUvEuO1vEm9fok9WMnb3kbszZwxd2+pied8/u4paj8+8TIZxY1G6ZufOlmHLIh+5g/E4\n3dPLJ/+ZGLe7ma5nZaWsZPznH1LV3exz5zlyW6Pk1fexlm6LL79U6KrLU87tTcu+hR2bmk5b5l6V\n1roFANL/V55ivIWFxVmE076qr5S6Qym1QSm1ITzChQcLC4vTi/e6qt+mlKphpn77cAO11vcCuBcA\nKqpLdbLcCwC48aIVYtzmV8msqa+VBsRjG4jfbuJ4Mp13HpFkG1vupQyru370T0L3ix//0ZE/fxtl\nUfUOyRZUCUW/hTPHXiV0q7rI1C9qoQyu1m55+L4o0TO/uVO2lpoyn/j4Vr/QInSzzycTMIcRakx1\nS1O/rYRWydv65Er4oUYqdLn+WjIH96/vEOP6j9FxPvKfkkcuv5hM///+Ba1AV5TKNdzKvbT6Xb5F\nZrQ9pyhqcNWX6Hq+sPp/xbipU4j0Y+a4yUJ37i20vzsfuM+RG7fIDsTd7WTZVhsdd+vKqC0ZvORK\nvPDqW2JcMkrb+JNrPyZ0d33zO448a5Lkcjywh6IDFZXEO/jTdd8W4xaNp6jKY/99n9B9t4T2XXId\nmfpPb5d8ig2bKFY12CGjYo+tSkWjerrl/IbDe33jPwng02n50wCeOMlYCwuLswwjCef9FsBaAFOU\nUs1KqdsBfA/ApUqpBgCXpj9bWFh8SHBKU19r/fFhVBd/wHOxsLDIEDJKxFEzplLf/vepDKbWbdJH\nqSggEoOcYhnWiXnJP934GhE8uJMyO2rZNAovHemVv2kDMcp2C0wmkgSdkASPf/NVaqn13W/+g9Bd\nfymRHz7+W1p3UJWylVfRUTKkzlkmM6y2v0U+eAjy3HcMUNXdmFoKP8a9ktTh4GZa27jmVpli0b6P\nQkqtR2n9Ys+eA2JcZ5jaZOV4vUIHTesGo8eSj3z4ULMY5vXQcVZVyTCaK0S+5vUrqZIxWv2qGFdS\nW+/I8+dKMo9AksKdm9Y1OfJjr8vMunkT6XtN++R6y9KFNzlyxxEi2BzskbmdHi9ljhZ65PkIDtD6\nU6RX3i8lY2n+riEiiZ0+SR7L/k4K+V5bLtd2dm+jisVfNdO6xrJbZFjb00/rKK88J0lL62emshJ/\n+L2HcPhQmyXisLCwOB72wbewyEJk1tSvKte3fTwV1ohH4kIXY9PojUrT9q4vfMaRf/MIhZ7mzZJh\nrn5NhRxrXn1D6NoOE2HCOQuJ9635mCxy8XjInMoLyMy6vS1kYp9TTqb47maZYRXso6zB2lmSoz3c\nS2N7e2RX1uXXEDnG3jfI7E8kZf5DkSJXqLrK4AVsYWZpktyd1W/J7sG5ATJtI0NhoVswnzLc2tqI\n/7CvX2ZDRiLkEpj3UW4uhSajSTKrawrlMX/uy5RBeHSXDDk276P9XbRgviMfbJMhq0rGn+fX8r4a\niNCxTR9FYcrGg4fEuIVTiOzlmZ2S6KMgj873tGKZdVdTS4U/A8wNeGa73L4vlwqauo4eEbreMM2x\nrJQyAXv7ZajZ5yILvr5GFqjll6YyX7/2w5/jwOFma+pbWFgcD/vgW1hkIeyDb2GRhcgoEUc0FseR\n1lQYb+qEsUKX76HQXB5kGurjjz3qyLks7bKpQfpRgzFaG7hshqys6z+XQiNNR8hvXXLuMjFudwOR\ndAwZoZsrPkFkCmt/TdVWKi5dKq3otEZ6pP/cuY980HETa4WusIPmfNUFtIYQyJXpsI2NFM5au06m\ndRYU0/fe3kQVZz63vNTFLHxaWSfnoeNU9ehJkOw37havh9YJRo+RpBHbd1LoTGk6P/EyWQn4xAPE\nlz+ThQ4B4KrPULXl9qcpHBk3CEybQxRG87vltehm6y3LZtM9sLVB+vGK3VefMqr/XtpM4TZ/QIaa\nC0tpjeXgUVqjuHyWbBv+m9WUInzlPEn+kuenbf73Ghq3wtjGur00Z7dbhhyL0usQbtfI3uX2jW9h\nkYWwD76FRRYio6Z+Xm4Ai2elzJyWFsk35/KT2ThnmjQ9V22mkNvf3kaZWHsOyGy0Na9SyKp0nAy7\n6ASFlMKMRGNbSBKCIECmeNjI7uo/SBlX0y4/z5EPNck2XEs8RORQXCpPcc55FM5qb5FhwFUvk9le\nWEzEJP5ceSxdPZQF1iW9EezeT9ViIZY9l5MjtxGJUIiwuUOG0fr2k7tTXkyhsmBQui2hKLlkPb2y\nCtHvo+POYRz2LoMMsY+RlhQUS06/V39L2/S4yBUMGOZ2fRl9b/4MaUa/spHORyxCruDUWhkOe2kz\nuU/Xr5Ah0utvpMo63SMzAw/sJ3dzIEJuRjgiM1PPn0qZfONGy5Zlr+5ocuTCPHKFdhyR4bxRVeTG\nuSGzVltbUvuLxWQ4czjYN76FRRbCPvgWFlmIzLbQ0kA8mVolPm+B5DU72kjmfF9QruoHWNHEv93/\niCMvmy8LYIpGkYm2rk+aWoWDZAKVl5PZ6y+UfHkF9dTJtPP13UI35GIZhYNkHo+rlgUZHc1UzNK9\nXx6LipLZm18oTVvloczDwy20/e5u6RLU1lFExOORJp/fS5+9bPter+yqG2fZdN3d0qTkmWqd3eRL\nJI2iIp5JNmSYmMkkjY3GaF/egGxZ5la0DZ9fng+Xi7YRyCEXac5kGbHhLt+6BiMrLkT7ToRo3z09\nkiPw4tmUNVlcb0Q5uHnvly6TR1PUo6uTxuX65Kr7gKJjW711v9CxS4F+FqEoLpSZo+XlRGjiSchs\nzmA69dVlV/UtLCyGg33wLSyyEPbBt7DIQmTUx4/H4+hoT/mT51ZJ8oqyCsokazgoiQom1FHFUr6H\nfMJjIRleaohT+KqyS1Zw7eonX6wzQiG88jyZSXa4idpYzb7kIqHb/vZz9L3xtBZQNUqSULTuIpKO\nceOkP3r0MOOKl+4uRo0l3z3IiCxzcmVLZ8TID5x17kKhSkZJ19JE6ybKqJ4bCNPaRjIs1wm0orHx\nOK1RuFxyXIhl+BUG5ByVorGarTsktcys6x+kzLpkpWxPhZY1jjiJ+d3uApnJqEHrC7kuuf3PXnO+\nI+fkkZ9dx4hOACCWoPUblxEuVKOJEDRxVPrnRXnk8/excGfplHoxLslCq33dsoV2T5jO46hKupcC\nuXIeR1rouSgrlM9PJJk6B8kRVtvaN76FRRbCPvgWFlmIjJr6Lpcb/twUL/6GvbLApmo8ZVx5tMyO\n6uwmczAyhQo5Ih6ZBjY6RCGrNzr3Cp2vlEz67jCF+vR2SfpRu5S43V978WWhc+eQ6dW7nYpLjq2T\n26hQZIY1H5Buy869lLHY0SvdkSTITO0LUhhtYb0MF06dQdx/U2ctErota4nTLsyyIXu7ZKakYuQP\n+Uqax9E4mc4VXno3xI1wXsJDt088LsN5mnkFiqlCLFwFAFFGutLeIrn0SgMUwqssJy66aFye77oS\nCuNevGS20OWUsxZmFdT+ytMsW49pZuor43zsfJJ6Mnji8hwcaaewYMRF90dYdndDASPi6OiXpn5u\nEZ1HV5K+qFwyJHj1x25w5GPNR4UuOJRy3byGmzIc7BvfwiILYR98C4sshH3wLSyyEBn18ZM6iUg0\n5Vt64tIJat5DxA3RqPQX3REKPR1ZQ33TSufLKqddvUSwcd1Ymc77bAdVnJUEyV9si8vqvOIm2ldb\nk/TPC+pZGmoLrS+MmSBDQ7XnUOhp7R/2CF1zO+1PG6e/o4t002toTWLxAtlaOqeQKve2rH5G6Dra\niKyho4PWSsJRmeKZYAQbeTJKBz9zcRMiPCbfE0n2OZyQvq+LsXZEmF8cjsrr7vfRusyurZuE7orF\n5K8Heyn22RWRPv6iqfWO7B0l+/tFj9HahouFGJWS83BPpTWmpJK+deNhOo9X3XyD0AVYlWlzgioB\nc4pkuG3m7OmOnNsk04rXb6LU8JnTaB75lZKspj1O58o/9lyhSyIVBnQFfoCRYCQttEYrpVYrpXYr\npXYqpb6U/nupUupFpVRD+v+SU23LwsLi7MBITP04gL/TWk8DsBjAF5RS0wF8FcAqrfUkAKvSny0s\nLD4EGEnvvBYALWl5QCm1G0AtgOsALE8PexDAGgBfOdm2vF4fqmtSZnHPQYPP3kuhm4QRNuLmYYyZ\nqOG9sqps3kVkYreukxVtRaMprOP2USiruECa6SVVVBF13gxpUm54g0KQY0ZT9tiBdbKKL9xG2W59\ng3IbnH++y+BNzwvQ5Zg+lkJ4wZAM/3S1USiqrVnuO8SyGaMsZMfPW2oeLBRqZLt5WYYe58vj4UYA\ncCXoc45RJehj1Wlz51Dr5y27dohxE6aSCdx8RJrAv3uBiEluvZT49yZNlCZw/ZUr6YM2qudqDD9m\nBDDfhuddcaUjh+LykelhRCKVpXTvjC2Qoebm9ascuaJ+ntB99JO3OPKoWjq2PiML7wt//V3a/rTl\nQhdWKVeud0Deb8PhXS3uKaXqAcwB8DaAqvSPwjs/DpXDf9PCwuJswogffKVUPoA/APhrrXX/qcaz\n792hlNqglNoQDA6e+gsWFhanHSN68JVSXqQe+oe01o+l/9ymlKpJ62sAtJ/ou1rre7XW87XW8/Pz\n8040xMLCIsM4pY+vUvmL9wPYrbX+MVM9CeDTAL6X/v+JU21LJ5OIpcNKbrf0vWIx8kFDQzL0xCu9\noqzJXnunZM+JHKHv+XyScabzbQr1eVy0ntDTK0N21SuJZ3/rWzLN9V/uJILN+35Koae40euvoYl8\ncI9fhnX6GNGn1yv7yBX4GPFkAf1IlufJcXsO0W+s32jpHPPQ+XG7KT1WGammYGmp2iDAjIPOo2K3\nyHF9FtnagNfgs/eytQGfm45r0fwFYtwLr7/uyHlGhV8l4+AvrCZyzLlXrRTjFAr4hxEhFHxdfM7N\nP3+YkUDFhNnD6mbXUuXe7CXLhh13Mly48nOOnJ9P56q/T6Y3+/10Hxw7dJ/QvXNlQn3yfh4OI4nj\nLwXwSQDblVJb0n/7R6Qe+EeUUrcDOAzg5hHt0cLC4oxjJKv6r2P439GLP9jpWFhYZAKZbaEVjaDp\nQIrIYFSB9PeDrJ2xSdYQYuQSSpMp5DZaIje/TKZ/p9HSeepVFCbpj1LlW9ubktRh3Vs7HTknJENg\n//K3ax3ZX0TfGz9Ptn5yRShEeKhVhhW5aT5guDRxVo3lipPumEH+kIzRIqlZFceZGwOMz37I2FfM\nQ+fRlZQmPP/ICvDg0sMvCSnDC+BuQVsza1E+R5KsVlZQZV1Pr2QmGWBhzDVvb3Hkaz7+p8POY6Q4\nmWmfaSST5Cq63XQ+VFRWEEZYWDs3R7qQvtyS9Pct2aaFhcUwsA++hUUWIqOmvtvlRll+ykTuD0vT\nM8JMw7ix4g9NJnCcrf5HjOXoION214bJs+UZyhSMMZaEhFeeggnVVHLgy5cm/I59VOiTHyVXYvwY\nWaaw5+A+Rw7FjIw2znsflTqPm2Uvskw7j5F152H2d64MXohoSZDxvCnjnHpZS7FYUp5HL48UJOmc\nuk1Tn/HewyCvCBSSK+QJ0CRkmMOsAAAgAElEQVQbd0uClIEuIrIoLZM5YP0DZOq7ff93QsGPP/es\n+DxuPJG/bNtI2YrXX3upGLd163ZHbm+Tq/f9/SmXMh6Tz9VwsG98C4sshH3wLSyyEPbBt7DIQmSW\niCOZRH86c83tkbuuGE3+tNnLLcD6kwX7KRQXHpS5/0mW+aa19GlLGX9+RydtIxqXve22HaDw20dX\nSJ73g4cp+y8nSf74QEhmnJ23kLjuN2/fKXRdvbTvmN/gy2fkELytt1lZN8T27THIFcMx8uv5Oko0\nJo/T7yU/3mOE4sT6gouukzJidpyIIxaX6wR9fXScRaPGO/Lo0ZI4tIlxxQ8OSfJRP1t/OcDWTT7s\nuP7yK8Tn/3qcsggDjGD0iSeeEuOuuvJaR15oZEC+tDq1NmB751lYWAwL++BbWGQhMmrq55b4MO/G\negDAgdUysy7Os/OMTLIYK4Lx51BoaHBIFjHkBYiEIWbwmhdNJp66mlri6tu8cZecR4jCVw8/LsMu\nK5YuceTDR6kV9roNklcvMZXcBbfRzri0kFqFdXa3CV0Oy2bkF8abWyDGdQ3R+WjcI8NjHT3kJiVZ\neLMkVxb6FCsyzX1GWNTH3DB+KUyKh/4oa7VtcCjGhmjfh9avc2T3po1i3PQaylTr7JSuW9UEcv9y\nffwdZWQrZvY2ft94c7u8ZhU+yjjtSNL9cvPHPifG7dq53pEDhovXn85UTRhu4XCwb3wLiyyEffAt\nLLIQ9sG3sMhCZNQ5CvVGsOWpVOpsZZkkuWxpI3IJlxEaKmU96450Uopnb7ck4vCxFtplfhnOO/oW\nVTp5WSjLbYSyKosp/dbtlb+L/S3Ur2x8Nc0xd4qs9CororDU+l9vEboJtbT9ZfNnCJ3uo2Nz++hY\nXtos1yH6ummcX8k5ji6gNQQdpzWQXK/M7R2McMJRGVYMDVLoL5JkJCha+o89EfK1PW55K1WzNQWX\nYiFBg3xk0Ev7jiZldV4oSPO/89tfoO+ED4pxPT3Uj8CVkMdSw9ZHVOl4pjlz77zzZk6Rn3/+M0fm\njd8PHJP39+5d1FPizTdeE7p30ri1yaoyDOwb38IiC2EffAuLLERmq/OSCRQMpsyXKxbJkMw6ZlJO\nm7pE6A42EhFFbQWF7PqDsppr1mQi26ifMF7omhophNITpMDU7HkyO6+KtWA62ib5Q4vLaN9N+4mP\nbwwLFQLAW29Su+c3CiXv/do99L2aItm+a0YVkSuEGRnJrApJFjLAQlttPX1CNxhlnH7MDYhGZKis\nIp9cgtJ8aX5HhsjEVMwX8iTl7VLFzHuXS+oirKVWwEdySZ40xYtLiIu+pVMeS+8gGb4dTRQ+TYyv\nFeNyWOVesF+axyid4IgxTe6eW8l5tLXQ9jVkCLa6hrj/XZDX4oOGn4Uqp4+SYdxf3/MT+mD0Qnh+\nb4qD74s3fmdE+7FvfAuLLIR98C0sshAZNfULCvKxYnnKjI/lSDP9khspg8vVLymjJ00gooIXt1JB\nw7kfkR1x3SwDSuXL7c+fXO3I0VxanXYPSnMqyMgf8kqqhK6knMw8Xz5l/xUUyBXz6TPIjC4sfVzO\nsY1WrrsHZOHM2EU0x2A/jSsulGbpMdZxt9NYxO1i6XW5Ccbl5pGmYZCZ0X6v1EXBN0rvhg6Dt8/D\nXInepMzri4Nct+IkRWVG1UlTOd/PIiwued0HmMuxbBlRV7u8YTGuOKfCkUuK5XVXIDfGq6qZRrqa\nVTXUfdZ1Eo7uBA6Jz4qNVawwrMcgWSnxV7PvDI9BHGCfZLGay0Vu6N6Ol4SuNLcTAOB2mVmNJ4Z9\n41tYZCHsg29hkYWwD76FRRYioz6+N9ePmjmpMJsvV/rPnR1EyFBRJ/3uMOOYX3IhERDUTpBkmAf2\nU8iuqFL+pgWKKWxUqMnnDHok+QMKKTQU75U+bXsffc7LZwSSzdLvG2IZc4VJScSZV0BrCB5IBz3A\niDliXlbd1irDfh1Bmoc2quJKWagvHuXepEH6yXoSJA2nk3PiuxmJZo5BTDoQpjWKYp+sFlOMVJQT\neLj8chsdrRQyzfHJa5ZfQOQpIVaRWF1YLcYlQfNwuyuEToNXgeYzWe6L+/Ua8pwqUBWlG3K9RYOO\nO9VXNgWvlu3A93dQiDfUK9dDmlkm5kcWXE1zUpPFuHXt/+jI23fKbXxyxecBALm+RzASnPKNr5QK\nKKXWKaW2KqV2KqW+mf77OKXU20qpBqXU75RSvlNty8LC4uzASEz9CIAVWutZAGYDuFwptRjA9wHc\nrbWeBKAHwO2nb5oWFhYfJEbSO08DeCe25E3/0wBWALg1/fcHAXwDwC9Pti1/jh9jZ6XMl4EeWZBR\nMKrekQvzFgldIkxEF24XZc+1HZKtpaorpjpywCtDQypMZnXCT+Z3Ii7JPNo6Ox15aFCGjQrLyJSr\nq66hcTFJKoJB1vnX4DkvL6Zw1uCg3Devr4iySF95aZkYl89M7r4e6ap0BsmV6GHmq8eoRhpdRMcS\nNdwFNy+qYa+GfIPPLcm6twaMVggFPtoG7/LqMo45mqBtTqqvE7qSUjLpq8qZ+6dldp6HuzFKmsAK\njJwF5Aq6US8nDMqoPNyzTWgCJTT2QIvUza25xJEHhqggqzxHdtgtCLBHTXojOJfJb3U86siLK2Qf\n2ulV1zmyz71d6H6/5r8AAD0D0i0cDiNa3FNKudOdctsBvAhgP4BerR1HsRlA7XDft7CwOLswogdf\na53QWs8GUAdgIYBpJxp2ou8qpe5QSm1QSm3o6Og90RALC4sM412F87TWvQDWAFgMoFgpxyasA3Bs\nmO/cq7Wer7WeX1FRfKIhFhYWGcYpfXylVAWAmNa6VymVA+ASpBb2VgO4CcDDAD4N4IlT7y4X7rRH\nU1wsq8U0GNkmZGtpT4Cq33o6yN9PuqRj2dpx2JHLy2XFXA8j8Aj4jjhyV5v046ctPM+RjzQcEbqB\no2xeY8jvHjVansaaYjqWSFxWnJWUkd/axfrGAQB4GC1AaxTJkEztjbBegu1B6eMnGB9/PkvFrTDa\nkheyNOO+fukXa03z1yzWl+uT6yZutjRgJoqGOOkjk4MD0scvZcSnfqPPQPtu8mN5+2ho87yxfR0X\nXKI1m84g3S8Bb7MYtbGRWqAvn3aV0HlAoeeqGkmewuE30tDfC8az++NQ6EWhq8ulUHbAL338jy//\nGgDg7oJnRrSfkcTxawA8qJRyI2UhPKK1floptQvAw0qpbwPYDOD+Ee3RwsLijGMkq/rbAMw5wd8P\nIOXvW1hYfMiQWUJyPYREJGWiuL2Sd0y7uMkts8CCfdTiOr9ihSOXVEgz/dBmajFcVCpbNZVWUPgN\nUXIzqkvlmqTbTSbw+CmThC7BmOU1C5Wte221GLfogk87clWvNIKTuWSa+zxyiSWH9wwYpO/FkgZX\nOmuNNXrUWKEKDpAZ7GItrn1GlmBuAa23DAzKEBDvfp1ULAPPaD3ODXOzF4KLteXmkUST9z0eJtO/\nbrzMxMxn52dX45uOHHVJ96mvh45t/JRWoavNW+zINfky44/jknNOtF793pHQQeMvdN3daniXYN++\nTY48efK5QhcF3R+leUuF7vBgqsVYNCmfieFgc/UtLLIQ9sG3sMhCZNbUV7lw+1Mcdzom2065XFNP\n9A0AQH4RZUEpYbJKTrwxcxaxcSY3Gn2PU8e5S4zfPla8AoNHzs22wbvxLrjgermNBLWJuuGjlwvV\n7/7wnCOfUy9NT05D7VFsJd8w9YtZG65+g2POFyd3JMKiAS1RaQKW1VC+VdzopKsZ3x83zSMJo6iI\nZcz5fPJcJdlYj4eiATopt5EI07ySRirIUCvlfUyfeBk+TBhSMtqyafevHPm8KX8hdE/s+Rbp6j/m\nyE8++29iXChEJDS+kLzukyelTP9ISGaKDgf7xrewyELYB9/CIgthH3wLiyzEGegvnPqtUd7pJxkj\n/UAF7zDjxhjjht8GP1TXyX7uTkorQF9k/BTHrye45znikb7/EKrR9cTzfmRQtskeipBfmGTz9XiM\nEBgL0wU8MnsxytzkCGuTPf9cSeowyNpTiYMBoFgIj7dkqmBkJgDQzSos8xLGSeUFc2zzXp88v3wN\nYc9uWW356FP/iw8TuqNEvrFn4C2hK8+Z78j3vPDnQjeu9AL6Xh/58eMnySzBUZUXO/LOzW8I3Z5t\nrwIAwkNmGPHEsG98C4sshH3wLSyyEGfA1D8xODfa8aG4Yb6jZfhHCZP1JL9pzAtIujYIlQvzTzzQ\n3DfjZVPHMaXTvj/z7R8KzR++dZcjD66TGXP7j1HWXUk+ZS8mlZxHjJnfyjDT+TkJszlu3i15AUdX\nUuZegZLZhSG2v1zmSnS2y7JqzXj1ogm5jYCLTHo3y+KLGqFJP9v+qLIPd/XmICtuWlL8WaFTZXRO\nN2x/Rej279znyCsqKZy3vvOnYlxnN7m8e5obhW729JkAAG+OzHodDvaNb2GRhbAPvoVFFsI++BYW\nWYizxsfnfr1GzNCxcB5z63uPyr50JXU3nGQPPBWX/97NM8adxK9P9LNR5Fu73ZJAItlOrbFdRTVC\nd9M3vunIu65aKXRDLLU1FqV5xCLSf+Ypth6vQYDJ020ZyWV3RJ7ThgNUxVbsl9uYW0VkpK8foXWI\nmLGW4WGhuCKj0tDnZjz1cVYl6MsV4xQ75h/f/yt82LDpIIUcj3bQOkrdApmCvqeVCDJyJh4UuvPO\nJ8LOznYi2EgelRWmF99MRNbPPiZTmGN7Un0pQn0G8eswsG98C4sshH3wLSyyEGeNqc9hZupx018p\n0pXUXSPHJZtonKt+2O3zUJzLaC2FJMtoc8n218pN4SaXaAstTWBX2Sj6YLR04q2P//nxB4Xm5iuJ\nN72TpeBVVZSKcb4c+r3WYWnCt0SoOqubhdj6w0ZbKMa20R+VuhcOUNVjhGcJemXW3RDj408Yfbhi\nmqruSgJ0Hl1GaLI/wttfDZehefqx6+jLjjy1doHQvbaLWlIXF0rXLcbank+uJvO+o7tFjHvhLQrh\nJf3SdWs/sMaR60dd6cjBQclL+cLTDzmyp0eGvFd+JdVC6w9PSt7/4WDf+BYWWQj74FtYZCHOgKn/\njqln/uYMv5quGJ00hKkozUtOQhDIl9vTbPtKHLaxXxfRUPf0rBeqohLK6nO5TnLq3FXD68DMdqMe\n6NGXKIvwK5+4wpH7uiWpQ1NHhyNX5MuIQohFLHJYtKHQYxBgaxrXZZiUMd4hl/EABoxMSZ7VFzeu\nRV+M3IA8P6MNN1yCeNwk5n5/MKaIro6ttG92vrt6JEX3QB8RW4RLJAX40klEue7yyOzCp7fRKvyb\nA887cjwoC5r+5rq7Hfnnj3xZ6HJcVLjV9DZFhHoNso2Im7gdL7tWcu6VVs4CALg90j0dDvaNb2GR\nhbAPvoVFFsI++BYWWYgzGM4zfXBe7WaE2IRbyL8nf7cC+ROGGQco06EeZhscxSWS/1xW4ZkVeR8s\nwhE6H/4cOfeaKmoPpuLyOEsLyMktczFy0AEZKmtlJJd1RTI0VJSgY+sNU9iyVctWW7UeqgSLGJl7\n3Yxsk7vdZkVlJD48D/y+tjWO7Ge3akzJY5lQSf1eBvpkVlzTYfo8f/61juxzdYhxJXnUHi3YI318\n5aLjLqsqELo508jXnuwmHvyWg3L7xw6R737p5bIPzXMvrnPkadMpW298/kVi3PkzaX3omQ2yt0D7\nwCoAQDwp1wWGw4jf+OlW2ZuVUk+nP49TSr2tlGpQSv1OqZNS11hYWJxFeDem/pcA7Gafvw/gbq31\nJAA9AG4/4bcsLCzOOozI1FdK1QG4CsB3APytSrE/rABwa3rIgwC+AeCXJ9+SBpngHkNDGW0KJyNk\n4L9VRiiOEVScjDtPg5lh2iQuIFNOqbF4b+DZdO8tGy3I+PLyPdKtGGJmusct3aIyVpjT0kohqyO9\nkouNt8Mqz5OddIOsHVaMTz8u3xNbeuma5Sg5j4pSch84r97AkDTtf/X7Xznys8/+l9DNmnaOIxfm\nUwZkLG64Waxbbo6/TKhmz5hJ0x88SvMYlMUswT6al9dlZDmy8OZgQHZy7u6kbU6fSSa8PyHdJ7+X\nwmxt+6TLdOwtIuKou4F4JFub3hTjPO6bHHnrFknScdWS3wAAcrz5GAlG+sb/CYAvg560MgC9Wjvd\nJ5oB1J7oixYWFmcfTvngK6WuBtCutd7I/3yCofoEf4NS6g6l1Aal1IaOjs4TDbGwsMgwRvLGXwrg\nWqVUE4CHkTLxfwKgWCmn51MdgGMn+rLW+l6t9Xyt9fyKivITDbGwsMgwTunja63vBHAnACillgP4\ne631nyilHgVwE1I/Bp8G8MSpttUTbcCjh1KpqCtHPSJ0Xi/5RLHul6SudIkjRxgphd8vQysSMqyx\n6ul7Hfniq/+GFOp0pDK8/yqzSy6gKq01rz0jdLwSzueT+wqz81OQS373hVXSEwsO0DpEV5/0/3tY\nhV+UkX74vXJf43KJVMNthBwH2fdiiozBhJbG4riJFAIrzDGqEAO0/nLPf/zIkT95681iXImm77V3\nS27+nmMU9hpTT63Zc31yX1XjaP5rVkvO+gKWFh0z+gyWl1H4raODSEvGjRsnxq3b9UdHnlB9jtD9\n0z9/x5GPsfbayWZ5rtbuoB4NnYdkyPGVLalnZiD0AYfzToCvILXQ14iUz3//+9iWhYVFBvGuEni0\n1msArEnLBwAsPNl4CwuLsxMZzdwr9o3ByrH3AAC8kNVLfT2HHbmwdLnQ8VVDn4+HKyTP+2CQqszy\nCuqE7uKr/+7dTzjjIDO9vIhMyq2HJKlDBQu/hSIyg4tXKFbks0otg1eP09t7kvI2KGIftfKzcXK2\nCcar1x+XJnAwTlctycg84JPVhJ/5cwpLRcNy8fc3D3zNkS+7YoUj5xfIe6etlUJqAb/UjRpH2ZdD\nITKPdzSuEuMmTyCXY/q5s4Sug1VDFpWUCJ0/j9zNtdtom6/tfVmMK8yhY9vdJKs+vV66GJ5yaptV\nNNYIzW2n+eshGT5tXJ9qoRXJgKlvYWHxIYV98C0sshAZNfUVfPDqd0xwadYVlrDCE2NaSXQxHV+N\nlWZXXoH8fHaC7OUli1cITTEzdb/5FeqoesV0mUG4p51WfuMGl54/n1ba44woYygsCS8Y5R7iBjlG\nU4iIP9iCvPgOAJTkktmeNN4heQFaJe8ZpDnOGi056xoaiHxkwrQ5Qrd4xS2O7GZFVmMmThHjfvDN\nGx25qlxuo3eQsswTipFv5Eqa7+dfo6DU5z7xdaHLCdCxtbXJ4ht/hKLYJTl0nLn1kra9bxelwdxy\n5U1ClwCdk9/8kbIXGw5L/ryyYspCnLtQujSPr1oDAAgFIxgJ7BvfwiILYR98C4sshH3wLSyyEBn1\n8Qfig1jT8zYA4MJSSRYYx+8dOTIoM/Ly8xh//unlv/jAseAC2SZrzvwLHTkZlBViP/jaFx15gGXP\neYxst33HaC1AQfruxax1dTsLv/mMdtruJCl7Q5LMkxW7Ick+1OTL8FI3qyAMJWQ4D6D55+dTVmah\nV85jZxuFKpv2SV0oSOGrKkY+smWDDJV9+S7W7yCVZuKgcReRXPzbL6l1dVlxtRgXLKF1k/+4/7tC\nN3MOrSls2POq0F194Z848r4ohaTRuF2MW7uV1jL6fDJT8kgTVee5WYVpXMnQnD9B/RqO+uW9M/Py\nRQCAF17ZgZHAvvEtLLIQ9sG3sMhCZNTUj4SPoWHPXQCA8um3CN3B3WQqXr1EFmGc7fjCnQ+Iz0eb\niedt+qxlQjfQT6HJ0bPOF7qmJjIVFSffSMiUuSumUvhnY4cs1oiHyAQcDJIp3hqUWY7VpWQeJwwe\nvCSL2w2FaN+NCWmiRlm2ntdor8ULeup9bP5eSXziBmVbdrY2CV1PN3X07e2iczN15gVi3IZXH6bt\neWWYbuUniMP+D0/Sudm5UZrsP/sRhU+LcmShj4uFTAtypYuwz00FZStmf5729duviXFXXv4JRw4P\nSE7/sTW0zeceoYKsmjFyXw3NO2kbCXnNSqpTYe5E1HS5Tgz7xrewyELYB9/CIgthH3wLiyxERn38\nJAII60kAgL19o4SuQ1GqYgJ/JnQe7s5kNJwnfeuHnj3kyA//D5EixKPSzx7oI3+6v1MSE3l9rI+c\n0TK6J0g6HaNwmDJCcVHGdV/vkT7d64wTfmiI5FhSjuvuJ99ax2Tar4vl6Xp99G4YMtYa4mxtIN8g\n6RhfQenTmp2f3IAk9uztbqRxWr6H3IxItKiISDR3bF0jxhUUsgo8g0Tz4f+805Frx1HK68w5y8W4\n/3mKrlN/ryTD/NxtNOfpRTOEru8YraM8vo3WE3z5soddIklknqUlMm351U1vOfKn/47WCbZteVuM\nq6+msCJf/wCAp55/DYAkYj0Z7BvfwiILYR98C4ssREZN/UQ0hIHDWwAA1y/9B6H73QCRHzy6+2qh\nu3HyHxzZ5x4Zb/h7xfd+SVlhWzZvFLrmI02O7FFkUg0abaa9bhYOM8zoo0fbHbmuVpp867ZTRt6k\nOsp2i2tpYvtYK+w8jyRkWDyJhfr2H6E5KUmA0dpH2XpjK2VVY0s7cce7RNtt+Z6IuWjfoZisCsuL\n0va54fzkWnlOh9j3dFIeSyCXTOz+fppT3AhZ9feQ2RvIkVmfSeaOHDu4y5E7j8pWW/4c2tfkc2VW\n6e+forBrXc06ocsto/N6znSqtqw3ePU27aVQXGfbLqEbOkrH8+aWzY4c7JWVgDs27HXkBUvnCl1e\n+hZ0GWQpw8G+8S0sshD2wbewyEJk1NR3e1woLEtlVr3YcrfQhTWtWF4z9m+F7n82fdSRP7tAUk2/\nF/z4vlccec/+w0LX303mVWGRXIEOtJPZOMjoqd1aFsokWQsqj0ee4oICMkXjcfm9dX1kFI+rJp1R\nowMXC2343HL7JWz1fs4oKmzZ0yWz7moqyWU61CpXiHlHWx8z5yNRWcxTlktkEFNLZcYczzaMseMc\niskVc83GuYxWYeDfC5M7pTwyghBnBULhIVnY4mXRhkiUtjHQL1thuVm331hUZjm6WaFSY0GV0P3j\nN+sduTJOlNovvfa6GBeN0LkbCMlzcMMnPunIP/jFDxw5JybPhz9C57hrr+HuJFPRjISWruVwsG98\nC4sshH3wLSyyEPbBt7DIQmTUxx8KJ7CjIeVbhYKSTMFbSqGKjYUzhW5CGVV+aRYcUjhZK2yJCy//\ngiMvWXaJI/vc0icKhVjWXZ/MyMvLocqySIR0CSWztHIZkWNvV7PQRdn3EDf2zfzTvb0UYhuVkGsB\nmmX8ud3SD2QdqVGVT/MtNnj1O/vJ5yyuk1VgAyHyhSsYaWY8If34Ig87/0aF3xALK61rG57rna9f\nmGE6F/PP3W6SzWrCBPPxtcHvHxuGe9JttBfnrbz7emX1XNM+ItEorZkodH/9OSLR+PmPvuTIE8Yv\nEeMe/fW3HTkyZGQohmjf9eV0Tlfe8Bkx7j++9ytHHhqQazZ15amMWJ9HrlkNhxE9+OmGmQMAEgDi\nWuv5SqlSAL8DUA+gCcBHtdY9w23DwsLi7MG7MfUv0lrP1lrPT3/+KoBVWutJAFalP1tYWHwI8H5M\n/esALE/LDyLVU+8rJ/tCfsCPpRMnAwCef3Ov0AVyKRPunJznhO78RdRmSWlponH84qG1jvzSS2uE\nbtZcMr3Wv/W8I5eVyay19hZqx+R3Gb+L7Gwp1mVXQ5qXvJutC3K+SrHPRiZcdzcZTC+sp9ZYowIy\nHWtZPWX1uZJyGx4+ZxYq8yo5j7piCuf5OmUbriEfjQ2z0KHX6CysGW/fQFSGqN5qY9tk+05AjnOd\n1F1j55Vl9WkjfOpi8zBDnzw06XYxdyEh3Sztoi8motI/aG2h4qwuww0I5NL9c6iZePbcudJNjOWS\nu9OTlIVEOw9TiLe3n56D116WZCEzryQ3481XG6SudioAwOMZWafmkb7xNYAXlFIblVJ3pP9WpbVu\nAYD0/5XDftvCwuKswkjf+Eu11seUUpUAXlRK7RnpDtI/FHcAQFllzilGW1hYZAIjeuNrrY+l/28H\n8DhS7bHblFI1AJD+v32Y796rtZ6vtZ5fUOQ/0RALC4sMQ2ltBr6MAUrlAXBprQfS8osA7gJwMYAu\nrfX3lFJfBVCqtf7yybZVNyFff+EHswEAiYhMh50x/3ZHjh58QehmLSAu+smlNzjy57/ykBgXj5Ov\nFzK44oeClIrbfozIH7r72uQkWbqtMvziokJKgY2wFEzzHHq99AOXSEqdZuQeZkvjGAvbleRR6Gyg\nX/6mDjJyj1nlxUI3s5bSaBOsqs9rpPbGmP/POfYB4FAL+bG+AB1LyAi3dbJzvKlHhpc0c7ZdLHTG\nr5EJl7GmwglIuJw05sv9epO0RGyPr7cYJCg8tTpubD/XT9ciYQSKc3PofFfWjHHku+6+XYzbu+cx\nR55QICvr9rRRFWXFbFqLatsnOfIj7D6o8k8XurZjqbH33PMYmo92nJKuZiSmfhWAx9Mn1APgN1rr\n55RS6wE8opS6HcBhAB8ualwLiyzGKR98rfUBALNO8PcupN76FhYWHzJkNHPP481BdUUq7LDxtU1C\nF8VvHPm6W/9S6CbEiZv+M1/8uSMbiW/CvOzvkVx3fV1kTvFMr1y/XHcIMr68WFyGdSKDFKIqLyPC\ni0hShm46WLVbSYkMF0bjNMd4VPKjJVjWWV41uRX9AzLk5WXtwDd3SDegqZ/mOK+CWor7jNBhUQGZ\nrz2Dcv4lrOVVM8viW9fcIsbF3SyTT8tbSYMujlmFKMHnZZjwzKrmLpJSMmSVZKE5t1ENycN2Lpbl\nqA0XbIi3LDOIHcOarpOZ8dcXpvPvYuHHiZXSnFfttLD97L4fCl19zSJH3vbC/Y48ZdpCMW7Na0TS\n0TlOXs9kmuAlFjvZuSbYXH0LiyyEffAtLLIQ9sG3sMhCnDKc90FifH2xvuvrqb5nzaWXCF1Z4NeO\n3N9dJHR9RbWOvPf3xCHgb/gAAA8ZSURBVHLSG5S+6dAA+ee5ARl6OtR0wJF9LD2Th+UAID5cORcA\n7oMKlhq/DE1y1hdRjQcgwXqeedzSdx8MkX/ucQ3fTGCIk3sajCsuNkcvS21NGLz6PHQWN/qwxVla\nrQvkm8aTcl8sM/m4kCYYR36ShcD8Ro+9CPOtTQYeHrZzuch3N/d1shAe3zdrFwDlHv6dZ27PdZJm\nDnw7HrZk5i+Q98SPf3mbI4+ZdYXQPfjjrztyVyutRUXdcg2oqoqeg5mjlwvdmHmpNaG/+tS/oGH3\noVOG8+wb38IiC2EffAuLLERGw3n55WNx4W33AQD2NTwrdOMm/LMjdxyVbYrv/jZVR0ViVNkUM4gV\ndYw+H2mVnOQuxYgbo2Sy6rhJlMnNedOMJnBzMGi0PeYhH5/Bex8aJNcixwglqiSZvVGW4RYzKt8C\nASLYSBrVeUPMdUmITDjZnhpJRuZpVjwyF4SH4kx+fxer1jPNY06iyRMgzRCp+J5pwjN3QVbTyXlw\nc/u4akhu3vOJGNl5fB68hRgAaK4zsgu5GxBg2ZY5fnm+XYru4Rd/9y2hK6+m7+keChPPmrtIjCti\n83j4sUeE7nyVyvgLGxmrw8G+8S0sshD2wbewyEJk1NTv7DiE+/79cwCA8666UegOtJJpVDQoTeD2\no12OrFyMG61bmtgJtoKuDcKHZJRMu/AAtapKGCaq38dW5A1CBp7x5/fQHM1fT06GwTvWAoCbrdaH\njc6mcbbyzkkuDFo9RFnG33EFK6xllyePcQQa+9KCLMQgEmHZhVHmZni9Jp89uQGcEw8AtIt0ipnD\nyeNW5Olz0simS7LsP+4vHLfKzo5FK+mecfM+ydyb41buWdQgYXAcKsWjC/J7Me6CaMbvPyjn8flP\nPenIP/76rUK3aSe1FaueXIHhUHPuWEf+mylfFLoXXkh13E1ERxals298C4sshH3wLSyyEPbBt7DI\nQmTUx/fllaB+QaoP3p4DPxe6SDf5km0DMhRXXUPrAQ07qcVwX79BfOijw4kZGXlg4TE3I6VIGOG8\nCKtGSxgZbTyUw8NLpp/NfUlDBcWJOIwW2h4v7Y+H8LRREcZ93JjBI+9ioa3BICPH0PI33u1h+4pL\nv9XNtuFm2XS84u44GKFPzd4pmp1HbYTi3Cx0GEsaJJpg6wYixDb8+8q8FvyauTlBqrlMkGTn21Dy\nTMFYwlgbYLtLcmJSn5yjl4UZw26ZmTp+/hxH3rGJyF7L58l1k1dfpIrWuTMlxWVOWeo+cHmsj29h\nYTEM7INvYZGFyKipj1A/4ltTnPZTF8wXqsaB3Y48d843he5bP7rLkXNyqGgkP1cWfPR0U9jPpMQX\nxSDMGnJ7zVNA5lVsULoLgQBx0XPzz2yFzXn73B5peg4NsXkYoSFewOJh7anNsJ8o3zHCUoL0glfR\nGAUwWmT8jYwHz+SiFzx4hhfAjy3JQmwumNx/PCRo9kygecUZ64o5TBbtmH0GGKc/yzw0j4W3ItMm\nHx/bhsvoLZBg7k9VBZGndHZ2inEhdt3jhTKr7/JxRDTTn6T22l2dksy6MIfCeatX7RO6qTMq03P9\nYHn1LSws/g/BPvgWFlkI++BbWGQhMurjR5PA0cHUb024RabU9h0gP/b3//kbodNxFmKLMd/XILmI\nMRINt1lhxT4mWegpGpL+s5el4h7nPzMfMTpE3zueV5/8rJyAXIfgY/Nypa83yEkvudNsbF+7eDqv\n8dvNUpqTLCxlkkvyhQ7lMrbP/FbBbW9UvsVZCrPPa/TVY+eYn4/j1gnYvJIJGZpUbH3BxeZxPHkM\nrxKUuliCtVU/WZUd8+P1cf4/85td5loJjR0c4qnUcoZ8Wnd/60Gh++gT1BvSy+4xHZb7mj6dfPxg\njwxlr2/cBgAImWHsYWDf+BYWWQj74FtYZCEyS8RR4MN5y+sAAIOHZJvfSdec48gb35bm2j5GLuDx\nkXk8NDQoxnGzMWZwzPFQUU4uER/09vaKcTzzy+eXpycpsuRoXEFBvhgXDNJ8I9KjEfMYHJTzHy4b\n0AwXal6dZla7MXM8CQqVeV3GsfBW00ZWH3eFhMdhZO4FAqy1VFweqMh2YyFGbRJgMJNbH/ceYm4G\nU5lmuszWM0x4xbMGh4cSroQ8Tu5C8vZoqZ3TVkNBup5mVWYsRvdOV4cM9T360suOPLeaOCUPhWQf\nmzu/RmHtnpA8jzOnjUrtJzx8aJZjRG98pVSxUur3Sqk9SqndSqklSqlSpdSLSqmG9P8lp96ShYXF\n2YCRmvo/BfCc1noqUu20dgP4KoBVWutJAFalP1tYWHwIcEpTXylVCGAZgNsAQGsdBRBVSl0HYHl6\n2IMA1gD4ysm2NRDswZrXHwUAXHfznwqdjlAmX0/vPULn5hlirEVQjl9mKfkLyeRua5NdcPmqKjcN\nzZV7brJ63NKsS7IsM5+PVusHjRZUfGXZsBrFvk3yCjXMyrW5Ei51hkvDzGCvh2XdmSY2N++NTLUk\n48vzsMxGc6VamPcJqRR1LppHEAwzPc50btMYPzFLdNI4HzjJij+nBOfnO2kWBDFXyOTty+Edg4ck\nOQs/TtO8l6DjjhnFWW3dxDH5o+8/4MiDYXltcwqotdnnbpUU3TsTqX2718uMvlPPZniMB9AB4L+U\nUpuVUvel22VXaa1bACD9f+XJNmJhYXH2YCQPvgfAXAC/1FrPATCId2HWK6XuUEptUEptCAVPUtZp\nYWGRMYzkwW8G0Ky1fjv9+fdI/RC0KaVqACD9f/uJvqy1vldrPV9rPT833yzCsLCwOBM4pY+vtW5V\nSh1RSk3RWu8FcDGAXel/nwbwvfT/T5xqW7UVM/Ddz28AAPz9k5cK3YKpv3VkF+qEjrcw5igsKBaf\ng4xEw0jgQoKF33hoxcx8S4iKMOkHcjdWnYR/3+cdnrDTx7j04zHpw0lOf3IeeXUYILnplRGK4+sE\nvDUW9/dTOpa9aPQbz8+hkGltGXlw+48dFePGVrBqReNWmjJ2lCOv3kyVlyZRBqe6d5mtsEQbruGt\nxep8Ciu29geFbmYdzX9nK1Vvuo21Bh4yNddUeDjSbL3F2jWIc3+ySkYz+2/DRlovmjFjqiPfeP35\nYtyuIPWNaDRCglV5qXl5jlsnOTFGGsf/IoCHlFI+AAcAfAYpa+ERpdTtAA4DuHmE27KwsDjDGNGD\nr7XeAmD+CVQXf7DTsbCwyAQymrnX19uBp564FwCQv1sWE2zYf5Ej83ZDAFBQUODI/SzTLq9Acpe5\nWBaVmd0VTjCTe4jGcWIPAAiGyJwKG6Z+fj6ZtpHwiYtQABnWcRtZd1FOCGLMkZuHPFyYNExxzol/\n3SXnCd1Lr6x15GsvJC63XUdlhuL2xoOO/BeXylZNB49RKPTlPQeZRpqR3d3kWi2cPk7oXlpP3Ijn\nTybd2gNNYhznPDwumKc4Nz+dx0hY3jstLIRnhvN2tZB5z7MGk0ZhEr8uZpsvn5dciVhEumc+34ld\nBPOe4JfaDItuXPeaI3/vb65z5APbDopx9TPGOPK0WfJ8b96f7rSsRraOZnP1LSyyEPbBt7DIQtgH\n38IiC5FRHz8eGUDv/lUAgLr5twjdYz8jkkG30Sxu1CjybQZ6yFeNGUQcwi82uNEjveS3JdzkZOXm\n54lxwX7y8T1Gi2ueXuoPkM6gthdtrP1GK2xeUbhs4Vyhe/G1Nx2ZV3qZ8OfQcT6z+k2pZKmn3VHy\nkV2DXWIYr857fPV6oZsyodqRebWfSsgKvIvPp7WBx19dK3QXMtKINxuaHPnyWRPFuKc37XXkfLdc\nUzlnHPmxbkYOurZJhhV5inTCaOXNe+d5WWqyNkgpw8x3d5mVjOBrR3L7RXls3YeldEeMELRMHTbC\nsyysO3HGUkfui8jrUp9f5cjBPrlm09eRWhdLxIxy0GFg3/gWFlkI++BbWGQh1PH8ZadxZ0p1ADgE\noBxA5ymGn26cDXMA7DxM2HlIvNt5jNVaD99rO42MPvjOTpXaoLU+UUJQVs3BzsPO40zNw5r6FhZZ\nCPvgW1hkIc7Ug3/vGdovx9kwB8DOw4Sdh8RpmccZ8fEtLCzOLKypb2GRhcjog6+UulwptVcp1aiU\nyhgrr1LqAaVUu1JqB/tbxunBlVKjlVKr0xTlO5VSXzoTc1FKBZRS65RSW9Pz+Gb67+OUUm+n5/G7\nNP/CaYdSyp3mc3z6TM1DKdWklNqulNqilNqQ/tuZuEcyQmWfsQdfpXIn7wFwBYDpAD6ulJqeod3/\nCsDlxt/OBD14HMDfaa2nAVgM4Avpc5DpuUQArNBazwIwG8DlSqnFAL4P4O70PHoA3H6a5/EOvoQU\nZfs7OFPzuEhrPZuFz87EPZIZKnutdUb+AVgC4Hn2+U4Ad2Zw//UAdrDPewHUpOUaAHszNRc2hycA\nXHom5wIgF8AmAIuQShTxnOh6ncb916Vv5hUAnkaKU/tMzKMJQLnxt4xeFwCFAA4ivfZ2OueRSVO/\nFsAR9rk5/bczhTNKD66UqgcwB8DbZ2IuafN6C1IkqS8C2A+gV2uneidT1+cnAL4M6klWdobmoQG8\noJTaqJS6I/23TF+XjFHZZ/LBP1F3hKwMKSil8gH8AcBfa637z8QctNYJrfVspN64CwFMO9Gw0zkH\npdTVANq11hv5nzM9jzSWaq3nIuWKfkEptSwD+zTxvqjs3w0y+eA3AxjNPtcBOJbB/ZsYET34Bw2l\nlBeph/4hrfVjZ3IuAKC17kWqC9JiAMVKqXdqUjNxfZYCuFYp1QTgYaTM/Z+cgXlAa30s/X87gMeR\n+jHM9HV5X1T27waZfPDXA5iUXrH1AbgFwJMZ3L+JJ5GiBQdGSA/+fqFSHMv3A9ittf7xmZqLUqpC\nKVWclnMAXILUItJqADdlah5a6zu11nVa63qk7oeXtdZ/kul5KKXylFIF78gALgOwAxm+LlrrVgBH\nlFJT0n96h8r+g5/H6V40MRYprgSwDyl/8p8yuN/fAmgBEEPqV/V2pHzJVQAa0v+XZmAe5yNltm4D\nsCX978pMzwXAuQA2p+exA8A/p/8+HsA6AI0AHgXgz+A1Wg7g6TMxj/T+tqb/7Xzn3jxD98hsABvS\n1+aPAEpOxzxs5p6FRRbCZu5ZWGQh7INvYZGFsA++hUUWwj74FhZZCPvgW1hkIeyDb2GRhbAPvoVF\nFsI++BYWWYj/D1lhiWNHv8uVAAAAAElFTkSuQmCC\n",
      "text/plain": [
       "<matplotlib.figure.Figure at 0x7fcda0766320>"
>>>>>>> Stashed changes
      ]
     },
     "metadata": {},
     "output_type": "display_data"
    }
   ],
   "source": [
    "### START CODE HERE ###\n",
    "img_path = 'images/my_image.jpg'\n",
    "### END CODE HERE ###\n",
    "img = image.load_img(img_path, target_size=(64, 64))\n",
    "imshow(img)\n",
    "\n",
    "x = image.img_to_array(img)\n",
    "x = np.expand_dims(x, axis=0)\n",
    "x = preprocess_input(x)\n",
    "\n",
    "print(happyModel.predict(x))"
   ]
  },
  {
   "cell_type": "markdown",
   "metadata": {},
   "source": [
    "## 5 - Other useful functions in Keras (Optional)\n",
    "\n",
    "Two other basic features of Keras that you'll find useful are:\n",
    "- `model.summary()`: prints the details of your layers in a table with the sizes of its inputs/outputs\n",
    "- `plot_model()`: plots your graph in a nice layout. You can even save it as \".png\" using SVG() if you'd like to share it on social media ;). It is saved in \"File\" then \"Open...\" in the upper bar of the notebook.\n",
    "\n",
    "Run the following code."
   ]
  },
  {
   "cell_type": "code",
   "execution_count": 14,
   "metadata": {
    "scrolled": false
   },
   "outputs": [
    {
     "name": "stdout",
     "output_type": "stream",
     "text": [
      "_________________________________________________________________\n",
      "Layer (type)                 Output Shape              Param #   \n",
      "=================================================================\n",
      "input_1 (InputLayer)         (None, 64, 64, 3)         0         \n",
      "_________________________________________________________________\n",
      "zero_padding2d_1 (ZeroPaddin (None, 66, 66, 3)         0         \n",
      "_________________________________________________________________\n",
      "conv2d_1 (Conv2D)            (None, 64, 64, 8)         224       \n",
      "_________________________________________________________________\n",
      "batch_normalization_1 (Batch (None, 64, 64, 8)         32        \n",
      "_________________________________________________________________\n",
      "activation_1 (Activation)    (None, 64, 64, 8)         0         \n",
      "_________________________________________________________________\n",
      "max_pooling2d_1 (MaxPooling2 (None, 32, 32, 8)         0         \n",
      "_________________________________________________________________\n",
      "zero_padding2d_2 (ZeroPaddin (None, 34, 34, 8)         0         \n",
      "_________________________________________________________________\n",
      "conv2d_2 (Conv2D)            (None, 32, 32, 16)        1168      \n",
      "_________________________________________________________________\n",
      "batch_normalization_2 (Batch (None, 32, 32, 16)        64        \n",
      "_________________________________________________________________\n",
      "activation_2 (Activation)    (None, 32, 32, 16)        0         \n",
      "_________________________________________________________________\n",
      "max_pooling2d_2 (MaxPooling2 (None, 16, 16, 16)        0         \n",
      "_________________________________________________________________\n",
      "zero_padding2d_3 (ZeroPaddin (None, 18, 18, 16)        0         \n",
      "_________________________________________________________________\n",
      "conv2d_3 (Conv2D)            (None, 16, 16, 32)        4640      \n",
      "_________________________________________________________________\n",
      "batch_normalization_3 (Batch (None, 16, 16, 32)        128       \n",
      "_________________________________________________________________\n",
      "activation_3 (Activation)    (None, 16, 16, 32)        0         \n",
      "_________________________________________________________________\n",
      "max_pooling2d_3 (MaxPooling2 (None, 8, 8, 32)          0         \n",
      "_________________________________________________________________\n",
      "flatten_1 (Flatten)          (None, 2048)              0         \n",
      "_________________________________________________________________\n",
      "dense_1 (Dense)              (None, 1)                 2049      \n",
      "=================================================================\n",
      "Total params: 8,305\n",
      "Trainable params: 8,193\n",
      "Non-trainable params: 112\n",
      "_________________________________________________________________\n"
     ]
    }
   ],
   "source": [
    "happyModel.summary()"
   ]
  },
  {
   "cell_type": "code",
   "execution_count": 15,
   "metadata": {},
   "outputs": [
    {
     "ename": "ImportError",
     "evalue": "Failed to import pydot. You must install pydot and graphviz for `pydotprint` to work.",
     "output_type": "error",
     "traceback": [
      "\u001b[0;31m---------------------------------------------------------------------------\u001b[0m",
      "\u001b[0;31mAttributeError\u001b[0m                            Traceback (most recent call last)",
<<<<<<< Updated upstream
      "\u001b[0;32m/usr/local/lib/python3.6/site-packages/keras/utils/vis_utils.py\u001b[0m in \u001b[0;36m_check_pydot\u001b[0;34m()\u001b[0m\n\u001b[1;32m     17\u001b[0m         \u001b[0;31m# Attempt to create an image of a blank graph to check the pydot/graphviz installation.\u001b[0m\u001b[0;34m\u001b[0m\u001b[0;34m\u001b[0m\u001b[0m\n\u001b[0;32m---> 18\u001b[0;31m         \u001b[0mpydot\u001b[0m\u001b[0;34m.\u001b[0m\u001b[0mDot\u001b[0m\u001b[0;34m.\u001b[0m\u001b[0mcreate\u001b[0m\u001b[0;34m(\u001b[0m\u001b[0mpydot\u001b[0m\u001b[0;34m.\u001b[0m\u001b[0mDot\u001b[0m\u001b[0;34m(\u001b[0m\u001b[0;34m)\u001b[0m\u001b[0;34m)\u001b[0m\u001b[0;34m\u001b[0m\u001b[0m\n\u001b[0m\u001b[1;32m     19\u001b[0m     \u001b[0;32mexcept\u001b[0m \u001b[0mException\u001b[0m\u001b[0;34m:\u001b[0m  \u001b[0;31m# pydot raises a generic Exception here, so no specific class can be caught.\u001b[0m\u001b[0;34m\u001b[0m\u001b[0m\n",
      "\u001b[0;31mAttributeError\u001b[0m: 'NoneType' object has no attribute 'Dot'",
      "\nDuring handling of the above exception, another exception occurred:\n",
      "\u001b[0;31mImportError\u001b[0m                               Traceback (most recent call last)",
      "\u001b[0;32m<ipython-input-15-94e567feb269>\u001b[0m in \u001b[0;36m<module>\u001b[0;34m()\u001b[0m\n\u001b[0;32m----> 1\u001b[0;31m \u001b[0mplot_model\u001b[0m\u001b[0;34m(\u001b[0m\u001b[0mhappyModel\u001b[0m\u001b[0;34m,\u001b[0m \u001b[0mto_file\u001b[0m\u001b[0;34m=\u001b[0m\u001b[0;34m'HappyModel.png'\u001b[0m\u001b[0;34m)\u001b[0m\u001b[0;34m\u001b[0m\u001b[0m\n\u001b[0m\u001b[1;32m      2\u001b[0m \u001b[0mSVG\u001b[0m\u001b[0;34m(\u001b[0m\u001b[0mmodel_to_dot\u001b[0m\u001b[0;34m(\u001b[0m\u001b[0mhappyModel\u001b[0m\u001b[0;34m)\u001b[0m\u001b[0;34m.\u001b[0m\u001b[0mcreate\u001b[0m\u001b[0;34m(\u001b[0m\u001b[0mprog\u001b[0m\u001b[0;34m=\u001b[0m\u001b[0;34m'dot'\u001b[0m\u001b[0;34m,\u001b[0m \u001b[0mformat\u001b[0m\u001b[0;34m=\u001b[0m\u001b[0;34m'svg'\u001b[0m\u001b[0;34m)\u001b[0m\u001b[0;34m)\u001b[0m\u001b[0;34m\u001b[0m\u001b[0m\n",
      "\u001b[0;32m/usr/local/lib/python3.6/site-packages/keras/utils/vis_utils.py\u001b[0m in \u001b[0;36mplot_model\u001b[0;34m(model, to_file, show_shapes, show_layer_names)\u001b[0m\n\u001b[1;32m    101\u001b[0m                \u001b[0mshow_shapes\u001b[0m\u001b[0;34m=\u001b[0m\u001b[0;32mFalse\u001b[0m\u001b[0;34m,\u001b[0m\u001b[0;34m\u001b[0m\u001b[0m\n\u001b[1;32m    102\u001b[0m                show_layer_names=True):\n\u001b[0;32m--> 103\u001b[0;31m     \u001b[0mdot\u001b[0m \u001b[0;34m=\u001b[0m \u001b[0mmodel_to_dot\u001b[0m\u001b[0;34m(\u001b[0m\u001b[0mmodel\u001b[0m\u001b[0;34m,\u001b[0m \u001b[0mshow_shapes\u001b[0m\u001b[0;34m,\u001b[0m \u001b[0mshow_layer_names\u001b[0m\u001b[0;34m)\u001b[0m\u001b[0;34m\u001b[0m\u001b[0m\n\u001b[0m\u001b[1;32m    104\u001b[0m     \u001b[0m_\u001b[0m\u001b[0;34m,\u001b[0m \u001b[0mextension\u001b[0m \u001b[0;34m=\u001b[0m \u001b[0mos\u001b[0m\u001b[0;34m.\u001b[0m\u001b[0mpath\u001b[0m\u001b[0;34m.\u001b[0m\u001b[0msplitext\u001b[0m\u001b[0;34m(\u001b[0m\u001b[0mto_file\u001b[0m\u001b[0;34m)\u001b[0m\u001b[0;34m\u001b[0m\u001b[0m\n\u001b[1;32m    105\u001b[0m     \u001b[0;32mif\u001b[0m \u001b[0;32mnot\u001b[0m \u001b[0mextension\u001b[0m\u001b[0;34m:\u001b[0m\u001b[0;34m\u001b[0m\u001b[0m\n",
      "\u001b[0;32m/usr/local/lib/python3.6/site-packages/keras/utils/vis_utils.py\u001b[0m in \u001b[0;36mmodel_to_dot\u001b[0;34m(model, show_shapes, show_layer_names)\u001b[0m\n\u001b[1;32m     36\u001b[0m     \u001b[0;32mfrom\u001b[0m \u001b[0;34m.\u001b[0m\u001b[0;34m.\u001b[0m\u001b[0mmodels\u001b[0m \u001b[0;32mimport\u001b[0m \u001b[0mSequential\u001b[0m\u001b[0;34m\u001b[0m\u001b[0m\n\u001b[1;32m     37\u001b[0m \u001b[0;34m\u001b[0m\u001b[0m\n\u001b[0;32m---> 38\u001b[0;31m     \u001b[0m_check_pydot\u001b[0m\u001b[0;34m(\u001b[0m\u001b[0;34m)\u001b[0m\u001b[0;34m\u001b[0m\u001b[0m\n\u001b[0m\u001b[1;32m     39\u001b[0m     \u001b[0mdot\u001b[0m \u001b[0;34m=\u001b[0m \u001b[0mpydot\u001b[0m\u001b[0;34m.\u001b[0m\u001b[0mDot\u001b[0m\u001b[0;34m(\u001b[0m\u001b[0;34m)\u001b[0m\u001b[0;34m\u001b[0m\u001b[0m\n\u001b[1;32m     40\u001b[0m     \u001b[0mdot\u001b[0m\u001b[0;34m.\u001b[0m\u001b[0mset\u001b[0m\u001b[0;34m(\u001b[0m\u001b[0;34m'rankdir'\u001b[0m\u001b[0;34m,\u001b[0m \u001b[0;34m'TB'\u001b[0m\u001b[0;34m)\u001b[0m\u001b[0;34m\u001b[0m\u001b[0m\n",
      "\u001b[0;32m/usr/local/lib/python3.6/site-packages/keras/utils/vis_utils.py\u001b[0m in \u001b[0;36m_check_pydot\u001b[0;34m()\u001b[0m\n\u001b[1;32m     18\u001b[0m         \u001b[0mpydot\u001b[0m\u001b[0;34m.\u001b[0m\u001b[0mDot\u001b[0m\u001b[0;34m.\u001b[0m\u001b[0mcreate\u001b[0m\u001b[0;34m(\u001b[0m\u001b[0mpydot\u001b[0m\u001b[0;34m.\u001b[0m\u001b[0mDot\u001b[0m\u001b[0;34m(\u001b[0m\u001b[0;34m)\u001b[0m\u001b[0;34m)\u001b[0m\u001b[0;34m\u001b[0m\u001b[0m\n\u001b[1;32m     19\u001b[0m     \u001b[0;32mexcept\u001b[0m \u001b[0mException\u001b[0m\u001b[0;34m:\u001b[0m  \u001b[0;31m# pydot raises a generic Exception here, so no specific class can be caught.\u001b[0m\u001b[0;34m\u001b[0m\u001b[0m\n\u001b[0;32m---> 20\u001b[0;31m         raise ImportError('Failed to import pydot. You must install pydot'\n\u001b[0m\u001b[1;32m     21\u001b[0m                           ' and graphviz for `pydotprint` to work.')\n\u001b[1;32m     22\u001b[0m \u001b[0;34m\u001b[0m\u001b[0m\n",
=======
      "\u001b[0;32m~/anaconda3/lib/python3.6/site-packages/keras/utils/vis_utils.py\u001b[0m in \u001b[0;36m_check_pydot\u001b[0;34m()\u001b[0m\n\u001b[1;32m     22\u001b[0m         \u001b[0;31m# to check the pydot/graphviz installation.\u001b[0m\u001b[0;34m\u001b[0m\u001b[0;34m\u001b[0m\u001b[0m\n\u001b[0;32m---> 23\u001b[0;31m         \u001b[0mpydot\u001b[0m\u001b[0;34m.\u001b[0m\u001b[0mDot\u001b[0m\u001b[0;34m.\u001b[0m\u001b[0mcreate\u001b[0m\u001b[0;34m(\u001b[0m\u001b[0mpydot\u001b[0m\u001b[0;34m.\u001b[0m\u001b[0mDot\u001b[0m\u001b[0;34m(\u001b[0m\u001b[0;34m)\u001b[0m\u001b[0;34m)\u001b[0m\u001b[0;34m\u001b[0m\u001b[0m\n\u001b[0m\u001b[1;32m     24\u001b[0m     \u001b[0;32mexcept\u001b[0m \u001b[0mException\u001b[0m\u001b[0;34m:\u001b[0m\u001b[0;34m\u001b[0m\u001b[0m\n",
      "\u001b[0;31mAttributeError\u001b[0m: 'NoneType' object has no attribute 'Dot'",
      "\nDuring handling of the above exception, another exception occurred:\n",
      "\u001b[0;31mImportError\u001b[0m                               Traceback (most recent call last)",
      "\u001b[0;32m<ipython-input-15-00bc26b0b649>\u001b[0m in \u001b[0;36m<module>\u001b[0;34m()\u001b[0m\n\u001b[0;32m----> 1\u001b[0;31m \u001b[0mplot_model\u001b[0m\u001b[0;34m(\u001b[0m\u001b[0mhappyModel\u001b[0m\u001b[0;34m,\u001b[0m \u001b[0mto_file\u001b[0m\u001b[0;34m=\u001b[0m\u001b[0;34m'HappyModel.png'\u001b[0m\u001b[0;34m)\u001b[0m\u001b[0;34m\u001b[0m\u001b[0m\n\u001b[0m\u001b[1;32m      2\u001b[0m \u001b[0mSVG\u001b[0m\u001b[0;34m(\u001b[0m\u001b[0mmodel_to_dot\u001b[0m\u001b[0;34m(\u001b[0m\u001b[0mhappyModel\u001b[0m\u001b[0;34m)\u001b[0m\u001b[0;34m.\u001b[0m\u001b[0mcreate\u001b[0m\u001b[0;34m(\u001b[0m\u001b[0mprog\u001b[0m\u001b[0;34m=\u001b[0m\u001b[0;34m'dot'\u001b[0m\u001b[0;34m,\u001b[0m \u001b[0mformat\u001b[0m\u001b[0;34m=\u001b[0m\u001b[0;34m'svg'\u001b[0m\u001b[0;34m)\u001b[0m\u001b[0;34m)\u001b[0m\u001b[0;34m\u001b[0m\u001b[0m\n",
      "\u001b[0;32m~/anaconda3/lib/python3.6/site-packages/keras/utils/vis_utils.py\u001b[0m in \u001b[0;36mplot_model\u001b[0;34m(model, to_file, show_shapes, show_layer_names, rankdir)\u001b[0m\n\u001b[1;32m    129\u001b[0m             \u001b[0;34m'LR'\u001b[0m \u001b[0mcreates\u001b[0m \u001b[0ma\u001b[0m \u001b[0mhorizontal\u001b[0m \u001b[0mplot\u001b[0m\u001b[0;34m.\u001b[0m\u001b[0;34m\u001b[0m\u001b[0m\n\u001b[1;32m    130\u001b[0m     \"\"\"\n\u001b[0;32m--> 131\u001b[0;31m     \u001b[0mdot\u001b[0m \u001b[0;34m=\u001b[0m \u001b[0mmodel_to_dot\u001b[0m\u001b[0;34m(\u001b[0m\u001b[0mmodel\u001b[0m\u001b[0;34m,\u001b[0m \u001b[0mshow_shapes\u001b[0m\u001b[0;34m,\u001b[0m \u001b[0mshow_layer_names\u001b[0m\u001b[0;34m,\u001b[0m \u001b[0mrankdir\u001b[0m\u001b[0;34m)\u001b[0m\u001b[0;34m\u001b[0m\u001b[0m\n\u001b[0m\u001b[1;32m    132\u001b[0m     \u001b[0m_\u001b[0m\u001b[0;34m,\u001b[0m \u001b[0mextension\u001b[0m \u001b[0;34m=\u001b[0m \u001b[0mos\u001b[0m\u001b[0;34m.\u001b[0m\u001b[0mpath\u001b[0m\u001b[0;34m.\u001b[0m\u001b[0msplitext\u001b[0m\u001b[0;34m(\u001b[0m\u001b[0mto_file\u001b[0m\u001b[0;34m)\u001b[0m\u001b[0;34m\u001b[0m\u001b[0m\n\u001b[1;32m    133\u001b[0m     \u001b[0;32mif\u001b[0m \u001b[0;32mnot\u001b[0m \u001b[0mextension\u001b[0m\u001b[0;34m:\u001b[0m\u001b[0;34m\u001b[0m\u001b[0m\n",
      "\u001b[0;32m~/anaconda3/lib/python3.6/site-packages/keras/utils/vis_utils.py\u001b[0m in \u001b[0;36mmodel_to_dot\u001b[0;34m(model, show_shapes, show_layer_names, rankdir)\u001b[0m\n\u001b[1;32m     50\u001b[0m     \u001b[0;32mfrom\u001b[0m \u001b[0;34m.\u001b[0m\u001b[0;34m.\u001b[0m\u001b[0mmodels\u001b[0m \u001b[0;32mimport\u001b[0m \u001b[0mSequential\u001b[0m\u001b[0;34m\u001b[0m\u001b[0m\n\u001b[1;32m     51\u001b[0m \u001b[0;34m\u001b[0m\u001b[0m\n\u001b[0;32m---> 52\u001b[0;31m     \u001b[0m_check_pydot\u001b[0m\u001b[0;34m(\u001b[0m\u001b[0;34m)\u001b[0m\u001b[0;34m\u001b[0m\u001b[0m\n\u001b[0m\u001b[1;32m     53\u001b[0m     \u001b[0mdot\u001b[0m \u001b[0;34m=\u001b[0m \u001b[0mpydot\u001b[0m\u001b[0;34m.\u001b[0m\u001b[0mDot\u001b[0m\u001b[0;34m(\u001b[0m\u001b[0;34m)\u001b[0m\u001b[0;34m\u001b[0m\u001b[0m\n\u001b[1;32m     54\u001b[0m     \u001b[0mdot\u001b[0m\u001b[0;34m.\u001b[0m\u001b[0mset\u001b[0m\u001b[0;34m(\u001b[0m\u001b[0;34m'rankdir'\u001b[0m\u001b[0;34m,\u001b[0m \u001b[0mrankdir\u001b[0m\u001b[0;34m)\u001b[0m\u001b[0;34m\u001b[0m\u001b[0m\n",
      "\u001b[0;32m~/anaconda3/lib/python3.6/site-packages/keras/utils/vis_utils.py\u001b[0m in \u001b[0;36m_check_pydot\u001b[0;34m()\u001b[0m\n\u001b[1;32m     25\u001b[0m         \u001b[0;31m# pydot raises a generic Exception here,\u001b[0m\u001b[0;34m\u001b[0m\u001b[0;34m\u001b[0m\u001b[0m\n\u001b[1;32m     26\u001b[0m         \u001b[0;31m# so no specific class can be caught.\u001b[0m\u001b[0;34m\u001b[0m\u001b[0;34m\u001b[0m\u001b[0m\n\u001b[0;32m---> 27\u001b[0;31m         raise ImportError('Failed to import pydot. You must install pydot'\n\u001b[0m\u001b[1;32m     28\u001b[0m                           ' and graphviz for `pydotprint` to work.')\n\u001b[1;32m     29\u001b[0m \u001b[0;34m\u001b[0m\u001b[0m\n",
>>>>>>> Stashed changes
      "\u001b[0;31mImportError\u001b[0m: Failed to import pydot. You must install pydot and graphviz for `pydotprint` to work."
     ]
    }
   ],
   "source": [
    "plot_model(happyModel, to_file='HappyModel.png')\n",
    "SVG(model_to_dot(happyModel).create(prog='dot', format='svg'))"
   ]
  },
  {
   "cell_type": "code",
   "execution_count": null,
   "metadata": {
    "collapsed": true
   },
   "outputs": [],
   "source": []
  }
 ],
 "metadata": {
  "anaconda-cloud": {},
  "kernelspec": {
   "display_name": "Python 3",
   "language": "python",
   "name": "python3"
  },
  "language_info": {
   "codemirror_mode": {
    "name": "ipython",
    "version": 3
   },
   "file_extension": ".py",
   "mimetype": "text/x-python",
   "name": "python",
   "nbconvert_exporter": "python",
   "pygments_lexer": "ipython3",
<<<<<<< Updated upstream
   "version": "3.6.0"
=======
   "version": "3.6.3"
>>>>>>> Stashed changes
  }
 },
 "nbformat": 4,
 "nbformat_minor": 2
}
